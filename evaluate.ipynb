{
 "cells": [
  {
   "cell_type": "code",
   "execution_count": 1,
   "id": "0241a268",
   "metadata": {},
   "outputs": [],
   "source": [
    "import warnings\n",
    "warnings.filterwarnings(\"ignore\")\n",
    "\n",
    "import pandas as pd\n",
    "import numpy as np\n",
    "\n",
    "import matplotlib.pyplot as plt\n",
    "import seaborn as sns\n",
    "\n",
    "from sklearn.model_selection import train_test_split\n",
    "from scipy.stats import pearsonr, spearmanr\n",
    "\n",
    "import env\n",
    "import wrangle\n",
    "import sklearn.preprocessing\n",
    "from sklearn.linear_model import LinearRegression\n",
    "from sklearn.metrics import mean_squared_error\n",
    "from sklearn.metrics import explained_variance_score\n"
   ]
  },
  {
   "cell_type": "code",
   "execution_count": 2,
   "id": "bc3b6651",
   "metadata": {},
   "outputs": [],
   "source": [
    "df = wrangle.get_zillow_data()"
   ]
  },
  {
   "cell_type": "code",
   "execution_count": 3,
   "id": "ef350e0b",
   "metadata": {},
   "outputs": [],
   "source": [
    "df = wrangle.prepare_zillow_data(df)"
   ]
  },
  {
   "cell_type": "code",
   "execution_count": 4,
   "id": "72b7661a",
   "metadata": {},
   "outputs": [],
   "source": [
    "train, validate, test = wrangle.split_zillow_data(df)"
   ]
  },
  {
   "cell_type": "markdown",
   "id": "c266ea4e",
   "metadata": {},
   "source": [
    "### Create variables for model"
   ]
  },
  {
   "cell_type": "code",
   "execution_count": 5,
   "id": "19cda1fd",
   "metadata": {},
   "outputs": [],
   "source": [
    "X_train = train.drop(columns ='Tax_Appraised_Value')\n",
    "y_train = train['Tax_Appraised_Value']\n",
    "\n",
    "X_validate = validate.drop(columns ='Tax_Appraised_Value')\n",
    "y_validate = validate['Tax_Appraised_Value']\n",
    "\n",
    "X_test = test.drop(columns ='Tax_Appraised_Value')\n",
    "y_test = test['Tax_Appraised_Value']\n"
   ]
  },
  {
   "cell_type": "code",
   "execution_count": 32,
   "id": "70a4d540",
   "metadata": {},
   "outputs": [
    {
     "data": {
      "text/html": [
       "<div>\n",
       "<style scoped>\n",
       "    .dataframe tbody tr th:only-of-type {\n",
       "        vertical-align: middle;\n",
       "    }\n",
       "\n",
       "    .dataframe tbody tr th {\n",
       "        vertical-align: top;\n",
       "    }\n",
       "\n",
       "    .dataframe thead th {\n",
       "        text-align: right;\n",
       "    }\n",
       "</style>\n",
       "<table border=\"1\" class=\"dataframe\">\n",
       "  <thead>\n",
       "    <tr style=\"text-align: right;\">\n",
       "      <th></th>\n",
       "      <th>Number_of_Bedrooms</th>\n",
       "      <th>Number_of_Bathrooms</th>\n",
       "      <th>Square_Footage</th>\n",
       "      <th>Year_Built</th>\n",
       "      <th>Tax_Assessed</th>\n",
       "      <th>County</th>\n",
       "    </tr>\n",
       "  </thead>\n",
       "  <tbody>\n",
       "    <tr>\n",
       "      <th>2014110</th>\n",
       "      <td>2</td>\n",
       "      <td>2.0</td>\n",
       "      <td>1779</td>\n",
       "      <td>1956</td>\n",
       "      <td>5127.84</td>\n",
       "      <td>Los Angeles County</td>\n",
       "    </tr>\n",
       "    <tr>\n",
       "      <th>432230</th>\n",
       "      <td>3</td>\n",
       "      <td>2.0</td>\n",
       "      <td>939</td>\n",
       "      <td>1959</td>\n",
       "      <td>2380.98</td>\n",
       "      <td>Los Angeles County</td>\n",
       "    </tr>\n",
       "    <tr>\n",
       "      <th>1724453</th>\n",
       "      <td>4</td>\n",
       "      <td>2.0</td>\n",
       "      <td>1408</td>\n",
       "      <td>1950</td>\n",
       "      <td>4213.56</td>\n",
       "      <td>Los Angeles County</td>\n",
       "    </tr>\n",
       "    <tr>\n",
       "      <th>1237258</th>\n",
       "      <td>5</td>\n",
       "      <td>3.0</td>\n",
       "      <td>3069</td>\n",
       "      <td>1989</td>\n",
       "      <td>6146.96</td>\n",
       "      <td>Orange County</td>\n",
       "    </tr>\n",
       "    <tr>\n",
       "      <th>2037405</th>\n",
       "      <td>4</td>\n",
       "      <td>4.0</td>\n",
       "      <td>3398</td>\n",
       "      <td>1984</td>\n",
       "      <td>8115.19</td>\n",
       "      <td>Los Angeles County</td>\n",
       "    </tr>\n",
       "  </tbody>\n",
       "</table>\n",
       "</div>"
      ],
      "text/plain": [
       "         Number_of_Bedrooms  Number_of_Bathrooms  Square_Footage  Year_Built  \\\n",
       "2014110                   2                  2.0            1779        1956   \n",
       "432230                    3                  2.0             939        1959   \n",
       "1724453                   4                  2.0            1408        1950   \n",
       "1237258                   5                  3.0            3069        1989   \n",
       "2037405                   4                  4.0            3398        1984   \n",
       "\n",
       "         Tax_Assessed              County  \n",
       "2014110       5127.84  Los Angeles County  \n",
       "432230        2380.98  Los Angeles County  \n",
       "1724453       4213.56  Los Angeles County  \n",
       "1237258       6146.96       Orange County  \n",
       "2037405       8115.19  Los Angeles County  "
      ]
     },
     "execution_count": 32,
     "metadata": {},
     "output_type": "execute_result"
    }
   ],
   "source": [
    "X_train.head()"
   ]
  },
  {
   "cell_type": "markdown",
   "id": "b2aa6e2f",
   "metadata": {},
   "source": [
    "### Create the baseline"
   ]
  },
  {
   "cell_type": "code",
   "execution_count": 7,
   "id": "1d8dd274",
   "metadata": {},
   "outputs": [
    {
     "data": {
      "text/html": [
       "<div>\n",
       "<style scoped>\n",
       "    .dataframe tbody tr th:only-of-type {\n",
       "        vertical-align: middle;\n",
       "    }\n",
       "\n",
       "    .dataframe tbody tr th {\n",
       "        vertical-align: top;\n",
       "    }\n",
       "\n",
       "    .dataframe thead th {\n",
       "        text-align: right;\n",
       "    }\n",
       "</style>\n",
       "<table border=\"1\" class=\"dataframe\">\n",
       "  <thead>\n",
       "    <tr style=\"text-align: right;\">\n",
       "      <th></th>\n",
       "      <th>Number_of_Bedrooms</th>\n",
       "      <th>Number_of_Bathrooms</th>\n",
       "      <th>Square_Footage</th>\n",
       "      <th>Tax_Appraised_Value</th>\n",
       "      <th>Year_Built</th>\n",
       "      <th>Tax_Assessed</th>\n",
       "      <th>County</th>\n",
       "      <th>yhat_baseline</th>\n",
       "    </tr>\n",
       "  </thead>\n",
       "  <tbody>\n",
       "    <tr>\n",
       "      <th>2014110</th>\n",
       "      <td>2</td>\n",
       "      <td>2.0</td>\n",
       "      <td>1779</td>\n",
       "      <td>412297</td>\n",
       "      <td>1956</td>\n",
       "      <td>5127.84</td>\n",
       "      <td>Los Angeles County</td>\n",
       "      <td>460758.592666</td>\n",
       "    </tr>\n",
       "    <tr>\n",
       "      <th>432230</th>\n",
       "      <td>3</td>\n",
       "      <td>2.0</td>\n",
       "      <td>939</td>\n",
       "      <td>196290</td>\n",
       "      <td>1959</td>\n",
       "      <td>2380.98</td>\n",
       "      <td>Los Angeles County</td>\n",
       "      <td>460758.592666</td>\n",
       "    </tr>\n",
       "    <tr>\n",
       "      <th>1724453</th>\n",
       "      <td>4</td>\n",
       "      <td>2.0</td>\n",
       "      <td>1408</td>\n",
       "      <td>336456</td>\n",
       "      <td>1950</td>\n",
       "      <td>4213.56</td>\n",
       "      <td>Los Angeles County</td>\n",
       "      <td>460758.592666</td>\n",
       "    </tr>\n",
       "    <tr>\n",
       "      <th>1237258</th>\n",
       "      <td>5</td>\n",
       "      <td>3.0</td>\n",
       "      <td>3069</td>\n",
       "      <td>612600</td>\n",
       "      <td>1989</td>\n",
       "      <td>6146.96</td>\n",
       "      <td>Orange County</td>\n",
       "      <td>460758.592666</td>\n",
       "    </tr>\n",
       "    <tr>\n",
       "      <th>2037405</th>\n",
       "      <td>4</td>\n",
       "      <td>4.0</td>\n",
       "      <td>3398</td>\n",
       "      <td>716009</td>\n",
       "      <td>1984</td>\n",
       "      <td>8115.19</td>\n",
       "      <td>Los Angeles County</td>\n",
       "      <td>460758.592666</td>\n",
       "    </tr>\n",
       "  </tbody>\n",
       "</table>\n",
       "</div>"
      ],
      "text/plain": [
       "         Number_of_Bedrooms  Number_of_Bathrooms  Square_Footage  \\\n",
       "2014110                   2                  2.0            1779   \n",
       "432230                    3                  2.0             939   \n",
       "1724453                   4                  2.0            1408   \n",
       "1237258                   5                  3.0            3069   \n",
       "2037405                   4                  4.0            3398   \n",
       "\n",
       "         Tax_Appraised_Value  Year_Built  Tax_Assessed              County  \\\n",
       "2014110               412297        1956       5127.84  Los Angeles County   \n",
       "432230                196290        1959       2380.98  Los Angeles County   \n",
       "1724453               336456        1950       4213.56  Los Angeles County   \n",
       "1237258               612600        1989       6146.96       Orange County   \n",
       "2037405               716009        1984       8115.19  Los Angeles County   \n",
       "\n",
       "         yhat_baseline  \n",
       "2014110  460758.592666  \n",
       "432230   460758.592666  \n",
       "1724453  460758.592666  \n",
       "1237258  460758.592666  \n",
       "2037405  460758.592666  "
      ]
     },
     "execution_count": 7,
     "metadata": {},
     "output_type": "execute_result"
    }
   ],
   "source": [
    "train['yhat_baseline'] = train['Tax_Appraised_Value'].mean()\n",
    "train.head()"
   ]
  },
  {
   "cell_type": "markdown",
   "id": "06d65f7f",
   "metadata": {},
   "source": [
    "### Using scaled data"
   ]
  },
  {
   "cell_type": "code",
   "execution_count": 8,
   "id": "db2c3495",
   "metadata": {},
   "outputs": [],
   "source": [
    "columns_to_scale = ['Number_of_Bedrooms','Number_of_Bathrooms', 'Square_Footage']"
   ]
  },
  {
   "cell_type": "code",
   "execution_count": 9,
   "id": "105d8654",
   "metadata": {},
   "outputs": [],
   "source": [
    "scaler = sklearn.preprocessing.QuantileTransformer(output_distribution='normal')\n",
    "train_scaled = train.copy()\n",
    "train_scaled[columns_to_scale] = scaler.fit_transform(train_scaled[columns_to_scale])"
   ]
  },
  {
   "cell_type": "code",
   "execution_count": 10,
   "id": "f6a81c35",
   "metadata": {},
   "outputs": [
    {
     "data": {
      "text/plain": [
       "2014110    412297\n",
       "432230     196290\n",
       "1724453    336456\n",
       "1237258    612600\n",
       "2037405    716009\n",
       "Name: Tax_Appraised_Value, dtype: int64"
      ]
     },
     "execution_count": 10,
     "metadata": {},
     "output_type": "execute_result"
    }
   ],
   "source": [
    "train.Tax_Appraised_Value.head()"
   ]
  },
  {
   "cell_type": "code",
   "execution_count": 11,
   "id": "012721df",
   "metadata": {},
   "outputs": [],
   "source": [
    "model = LinearRegression().fit(train_scaled[['Square_Footage']], train.Tax_Appraised_Value)\n",
    "predictions = np.round(model.predict(train_scaled[['Square_Footage']]),2)"
   ]
  },
  {
   "cell_type": "code",
   "execution_count": 12,
   "id": "74a38c10",
   "metadata": {},
   "outputs": [],
   "source": [
    "train['predictions'] = predictions"
   ]
  },
  {
   "cell_type": "code",
   "execution_count": 13,
   "id": "3b6c4816",
   "metadata": {},
   "outputs": [
    {
     "data": {
      "text/html": [
       "<div>\n",
       "<style scoped>\n",
       "    .dataframe tbody tr th:only-of-type {\n",
       "        vertical-align: middle;\n",
       "    }\n",
       "\n",
       "    .dataframe tbody tr th {\n",
       "        vertical-align: top;\n",
       "    }\n",
       "\n",
       "    .dataframe thead th {\n",
       "        text-align: right;\n",
       "    }\n",
       "</style>\n",
       "<table border=\"1\" class=\"dataframe\">\n",
       "  <thead>\n",
       "    <tr style=\"text-align: right;\">\n",
       "      <th></th>\n",
       "      <th>Number_of_Bedrooms</th>\n",
       "      <th>Number_of_Bathrooms</th>\n",
       "      <th>Square_Footage</th>\n",
       "      <th>Tax_Appraised_Value</th>\n",
       "      <th>Year_Built</th>\n",
       "      <th>Tax_Assessed</th>\n",
       "      <th>County</th>\n",
       "      <th>yhat_baseline</th>\n",
       "      <th>predictions</th>\n",
       "    </tr>\n",
       "  </thead>\n",
       "  <tbody>\n",
       "    <tr>\n",
       "      <th>2014110</th>\n",
       "      <td>2</td>\n",
       "      <td>2.0</td>\n",
       "      <td>1779</td>\n",
       "      <td>412297</td>\n",
       "      <td>1956</td>\n",
       "      <td>5127.84</td>\n",
       "      <td>Los Angeles County</td>\n",
       "      <td>460758.592666</td>\n",
       "      <td>522151.01</td>\n",
       "    </tr>\n",
       "    <tr>\n",
       "      <th>432230</th>\n",
       "      <td>3</td>\n",
       "      <td>2.0</td>\n",
       "      <td>939</td>\n",
       "      <td>196290</td>\n",
       "      <td>1959</td>\n",
       "      <td>2380.98</td>\n",
       "      <td>Los Angeles County</td>\n",
       "      <td>460758.592666</td>\n",
       "      <td>24968.82</td>\n",
       "    </tr>\n",
       "    <tr>\n",
       "      <th>1724453</th>\n",
       "      <td>4</td>\n",
       "      <td>2.0</td>\n",
       "      <td>1408</td>\n",
       "      <td>336456</td>\n",
       "      <td>1950</td>\n",
       "      <td>4213.56</td>\n",
       "      <td>Los Angeles County</td>\n",
       "      <td>460758.592666</td>\n",
       "      <td>356390.23</td>\n",
       "    </tr>\n",
       "    <tr>\n",
       "      <th>1237258</th>\n",
       "      <td>5</td>\n",
       "      <td>3.0</td>\n",
       "      <td>3069</td>\n",
       "      <td>612600</td>\n",
       "      <td>1989</td>\n",
       "      <td>6146.96</td>\n",
       "      <td>Orange County</td>\n",
       "      <td>460758.592666</td>\n",
       "      <td>851486.10</td>\n",
       "    </tr>\n",
       "    <tr>\n",
       "      <th>2037405</th>\n",
       "      <td>4</td>\n",
       "      <td>4.0</td>\n",
       "      <td>3398</td>\n",
       "      <td>716009</td>\n",
       "      <td>1984</td>\n",
       "      <td>8115.19</td>\n",
       "      <td>Los Angeles County</td>\n",
       "      <td>460758.592666</td>\n",
       "      <td>907929.51</td>\n",
       "    </tr>\n",
       "  </tbody>\n",
       "</table>\n",
       "</div>"
      ],
      "text/plain": [
       "         Number_of_Bedrooms  Number_of_Bathrooms  Square_Footage  \\\n",
       "2014110                   2                  2.0            1779   \n",
       "432230                    3                  2.0             939   \n",
       "1724453                   4                  2.0            1408   \n",
       "1237258                   5                  3.0            3069   \n",
       "2037405                   4                  4.0            3398   \n",
       "\n",
       "         Tax_Appraised_Value  Year_Built  Tax_Assessed              County  \\\n",
       "2014110               412297        1956       5127.84  Los Angeles County   \n",
       "432230                196290        1959       2380.98  Los Angeles County   \n",
       "1724453               336456        1950       4213.56  Los Angeles County   \n",
       "1237258               612600        1989       6146.96       Orange County   \n",
       "2037405               716009        1984       8115.19  Los Angeles County   \n",
       "\n",
       "         yhat_baseline  predictions  \n",
       "2014110  460758.592666    522151.01  \n",
       "432230   460758.592666     24968.82  \n",
       "1724453  460758.592666    356390.23  \n",
       "1237258  460758.592666    851486.10  \n",
       "2037405  460758.592666    907929.51  "
      ]
     },
     "execution_count": 13,
     "metadata": {},
     "output_type": "execute_result"
    }
   ],
   "source": [
    "train.head()"
   ]
  },
  {
   "cell_type": "code",
   "execution_count": 14,
   "id": "bed77912",
   "metadata": {},
   "outputs": [
    {
     "data": {
      "text/html": [
       "<div>\n",
       "<style scoped>\n",
       "    .dataframe tbody tr th:only-of-type {\n",
       "        vertical-align: middle;\n",
       "    }\n",
       "\n",
       "    .dataframe tbody tr th {\n",
       "        vertical-align: top;\n",
       "    }\n",
       "\n",
       "    .dataframe thead th {\n",
       "        text-align: right;\n",
       "    }\n",
       "</style>\n",
       "<table border=\"1\" class=\"dataframe\">\n",
       "  <thead>\n",
       "    <tr style=\"text-align: right;\">\n",
       "      <th></th>\n",
       "      <th>Number_of_Bedrooms</th>\n",
       "      <th>Number_of_Bathrooms</th>\n",
       "      <th>Square_Footage</th>\n",
       "      <th>Tax_Appraised_Value</th>\n",
       "      <th>Year_Built</th>\n",
       "      <th>Tax_Assessed</th>\n",
       "      <th>County</th>\n",
       "      <th>yhat_baseline</th>\n",
       "      <th>predictions</th>\n",
       "      <th>residual</th>\n",
       "      <th>residual_baseline</th>\n",
       "    </tr>\n",
       "  </thead>\n",
       "  <tbody>\n",
       "    <tr>\n",
       "      <th>2014110</th>\n",
       "      <td>2</td>\n",
       "      <td>2.0</td>\n",
       "      <td>1779</td>\n",
       "      <td>412297</td>\n",
       "      <td>1956</td>\n",
       "      <td>5127.84</td>\n",
       "      <td>Los Angeles County</td>\n",
       "      <td>460758.592666</td>\n",
       "      <td>522151.01</td>\n",
       "      <td>109854.01</td>\n",
       "      <td>48461.592666</td>\n",
       "    </tr>\n",
       "    <tr>\n",
       "      <th>432230</th>\n",
       "      <td>3</td>\n",
       "      <td>2.0</td>\n",
       "      <td>939</td>\n",
       "      <td>196290</td>\n",
       "      <td>1959</td>\n",
       "      <td>2380.98</td>\n",
       "      <td>Los Angeles County</td>\n",
       "      <td>460758.592666</td>\n",
       "      <td>24968.82</td>\n",
       "      <td>-171321.18</td>\n",
       "      <td>264468.592666</td>\n",
       "    </tr>\n",
       "    <tr>\n",
       "      <th>1724453</th>\n",
       "      <td>4</td>\n",
       "      <td>2.0</td>\n",
       "      <td>1408</td>\n",
       "      <td>336456</td>\n",
       "      <td>1950</td>\n",
       "      <td>4213.56</td>\n",
       "      <td>Los Angeles County</td>\n",
       "      <td>460758.592666</td>\n",
       "      <td>356390.23</td>\n",
       "      <td>19934.23</td>\n",
       "      <td>124302.592666</td>\n",
       "    </tr>\n",
       "    <tr>\n",
       "      <th>1237258</th>\n",
       "      <td>5</td>\n",
       "      <td>3.0</td>\n",
       "      <td>3069</td>\n",
       "      <td>612600</td>\n",
       "      <td>1989</td>\n",
       "      <td>6146.96</td>\n",
       "      <td>Orange County</td>\n",
       "      <td>460758.592666</td>\n",
       "      <td>851486.10</td>\n",
       "      <td>238886.10</td>\n",
       "      <td>-151841.407334</td>\n",
       "    </tr>\n",
       "    <tr>\n",
       "      <th>2037405</th>\n",
       "      <td>4</td>\n",
       "      <td>4.0</td>\n",
       "      <td>3398</td>\n",
       "      <td>716009</td>\n",
       "      <td>1984</td>\n",
       "      <td>8115.19</td>\n",
       "      <td>Los Angeles County</td>\n",
       "      <td>460758.592666</td>\n",
       "      <td>907929.51</td>\n",
       "      <td>191920.51</td>\n",
       "      <td>-255250.407334</td>\n",
       "    </tr>\n",
       "  </tbody>\n",
       "</table>\n",
       "</div>"
      ],
      "text/plain": [
       "         Number_of_Bedrooms  Number_of_Bathrooms  Square_Footage  \\\n",
       "2014110                   2                  2.0            1779   \n",
       "432230                    3                  2.0             939   \n",
       "1724453                   4                  2.0            1408   \n",
       "1237258                   5                  3.0            3069   \n",
       "2037405                   4                  4.0            3398   \n",
       "\n",
       "         Tax_Appraised_Value  Year_Built  Tax_Assessed              County  \\\n",
       "2014110               412297        1956       5127.84  Los Angeles County   \n",
       "432230                196290        1959       2380.98  Los Angeles County   \n",
       "1724453               336456        1950       4213.56  Los Angeles County   \n",
       "1237258               612600        1989       6146.96       Orange County   \n",
       "2037405               716009        1984       8115.19  Los Angeles County   \n",
       "\n",
       "         yhat_baseline  predictions   residual  residual_baseline  \n",
       "2014110  460758.592666    522151.01  109854.01       48461.592666  \n",
       "432230   460758.592666     24968.82 -171321.18      264468.592666  \n",
       "1724453  460758.592666    356390.23   19934.23      124302.592666  \n",
       "1237258  460758.592666    851486.10  238886.10     -151841.407334  \n",
       "2037405  460758.592666    907929.51  191920.51     -255250.407334  "
      ]
     },
     "execution_count": 14,
     "metadata": {},
     "output_type": "execute_result"
    }
   ],
   "source": [
    "# compute residuals\n",
    "train['residual'] = train['predictions'] - train['Tax_Appraised_Value']\n",
    "train['residual_baseline'] = train['yhat_baseline'] - train['Tax_Appraised_Value']\n",
    "train.head()"
   ]
  },
  {
   "cell_type": "code",
   "execution_count": 33,
   "id": "40e250a2",
   "metadata": {},
   "outputs": [
    {
     "data": {
      "text/plain": [
       "Text(0, 0.5, 'y = Tax Appraised Value')"
      ]
     },
     "execution_count": 33,
     "metadata": {},
     "output_type": "execute_result"
    },
    {
     "data": {
      "image/png": "[encoded data removed]",
      "text/plain": [
       "<Figure size 432x288 with 1 Axes>"
      ]
     },
     "metadata": {
      "needs_background": "light"
     },
     "output_type": "display_data"
    }
   ],
   "source": [
    "plt.scatter(train_scaled.Square_Footage, train.Tax_Appraised_Value)\n",
    "plt.plot(train_scaled.Square_Footage, train.predictions)\n",
    "plt.xlabel('x = Square Footage')\n",
    "plt.ylabel('y = Tax Appraised Value')\n"
   ]
  },
  {
   "cell_type": "markdown",
   "id": "5e5aa6c8",
   "metadata": {},
   "source": [
    "Residuals\n"
   ]
  },
  {
   "cell_type": "code",
   "execution_count": 37,
   "id": "851b7597",
   "metadata": {},
   "outputs": [
    {
     "data": {
      "image/png": "[encoded data removed]",
      "text/plain": [
       "<Figure size 792x360 with 2 Axes>"
      ]
     },
     "metadata": {
      "needs_background": "light"
     },
     "output_type": "display_data"
    }
   ],
   "source": [
    "# residual plots (x vs residual)\n",
    "\n",
    "plt.figure(figsize = (11,5))\n",
    "\n",
    "plt.subplot(121)\n",
    "plt.scatter(train_scaled.Square_Footage, train.residual_baseline)\n",
    "plt.axhline(y = 0, ls = ':', color='red')\n",
    "plt.ylabel('Residual')\n",
    "plt.title('Baseline Residuals')\n",
    "\n",
    "plt.subplot(122)\n",
    "plt.scatter(train_scaled.Square_Footage, train.residual)\n",
    "plt.axhline(y = 0, ls = ':', color='red')\n",
    "plt.ylabel('Residual')\n",
    "plt.title('Model residuals');"
   ]
  },
  {
   "cell_type": "code",
   "execution_count": 39,
   "id": "39db782d",
   "metadata": {},
   "outputs": [
    {
     "data": {
      "text/plain": [
       "(-81758091.57, 1295113.42)"
      ]
     },
     "execution_count": 39,
     "metadata": {},
     "output_type": "execute_result"
    }
   ],
   "source": [
    "train.residual.min(), train.residual.max()"
   ]
  },
  {
   "cell_type": "markdown",
   "id": "f56a3104",
   "metadata": {},
   "source": [
    "#### Calculate the sum of squared errors, explained sum of squares, total sum of squares, mean squared error, and root mean squared error for your model."
   ]
  },
  {
   "cell_type": "markdown",
   "id": "4c5ade4a",
   "metadata": {},
   "source": [
    "#### SSE"
   ]
  },
  {
   "cell_type": "code",
   "execution_count": 38,
   "id": "64c639aa",
   "metadata": {
    "scrolled": true
   },
   "outputs": [
    {
     "name": "stdout",
     "output_type": "stream",
     "text": [
      "SSE sklearn:  4.529550810682178e+17\n",
      "SSE sklearn(baseline):  5.502864596313548e+17\n"
     ]
    }
   ],
   "source": [
    "SSE = mean_squared_error(train.Tax_Appraised_Value, train.predictions)*len(train)\n",
    "SSE_baseline = mean_squared_error(train.Tax_Appraised_Value, train.yhat_baseline)*len(train)\n",
    "\n",
    "print(\"SSE sklearn: \", SSE) \n",
    "print(\"SSE sklearn(baseline): \", SSE_baseline) "
   ]
  },
  {
   "cell_type": "code",
   "execution_count": 42,
   "id": "e5f2a947",
   "metadata": {},
   "outputs": [
    {
     "data": {
      "text/html": [
       "<div>\n",
       "<style scoped>\n",
       "    .dataframe tbody tr th:only-of-type {\n",
       "        vertical-align: middle;\n",
       "    }\n",
       "\n",
       "    .dataframe tbody tr th {\n",
       "        vertical-align: top;\n",
       "    }\n",
       "\n",
       "    .dataframe thead th {\n",
       "        text-align: right;\n",
       "    }\n",
       "</style>\n",
       "<table border=\"1\" class=\"dataframe\">\n",
       "  <thead>\n",
       "    <tr style=\"text-align: right;\">\n",
       "      <th></th>\n",
       "      <th>Number_of_Bedrooms</th>\n",
       "      <th>Number_of_Bathrooms</th>\n",
       "      <th>Square_Footage</th>\n",
       "      <th>Tax_Appraised_Value</th>\n",
       "      <th>Year_Built</th>\n",
       "      <th>Tax_Assessed</th>\n",
       "      <th>County</th>\n",
       "      <th>yhat_baseline</th>\n",
       "      <th>predictions</th>\n",
       "      <th>residual</th>\n",
       "      <th>residual_baseline</th>\n",
       "      <th>predictions2</th>\n",
       "      <th>residual2</th>\n",
       "      <th>residual^2</th>\n",
       "      <th>baseline_residual^2</th>\n",
       "    </tr>\n",
       "  </thead>\n",
       "  <tbody>\n",
       "    <tr>\n",
       "      <th>2014110</th>\n",
       "      <td>2</td>\n",
       "      <td>2.0</td>\n",
       "      <td>1779</td>\n",
       "      <td>412297</td>\n",
       "      <td>1956</td>\n",
       "      <td>5127.84</td>\n",
       "      <td>Los Angeles County</td>\n",
       "      <td>460758.592666</td>\n",
       "      <td>522151.01</td>\n",
       "      <td>109854.01</td>\n",
       "      <td>48461.592666</td>\n",
       "      <td>5.084435e+08</td>\n",
       "      <td>5.080312e+08</td>\n",
       "      <td>1.206790e+10</td>\n",
       "      <td>2.348526e+09</td>\n",
       "    </tr>\n",
       "    <tr>\n",
       "      <th>432230</th>\n",
       "      <td>3</td>\n",
       "      <td>2.0</td>\n",
       "      <td>939</td>\n",
       "      <td>196290</td>\n",
       "      <td>1959</td>\n",
       "      <td>2380.98</td>\n",
       "      <td>Los Angeles County</td>\n",
       "      <td>460758.592666</td>\n",
       "      <td>24968.82</td>\n",
       "      <td>-171321.18</td>\n",
       "      <td>264468.592666</td>\n",
       "      <td>2.685868e+08</td>\n",
       "      <td>2.683905e+08</td>\n",
       "      <td>2.935095e+10</td>\n",
       "      <td>6.994364e+10</td>\n",
       "    </tr>\n",
       "  </tbody>\n",
       "</table>\n",
       "</div>"
      ],
      "text/plain": [
       "         Number_of_Bedrooms  Number_of_Bathrooms  Square_Footage  \\\n",
       "2014110                   2                  2.0            1779   \n",
       "432230                    3                  2.0             939   \n",
       "\n",
       "         Tax_Appraised_Value  Year_Built  Tax_Assessed              County  \\\n",
       "2014110               412297        1956       5127.84  Los Angeles County   \n",
       "432230                196290        1959       2380.98  Los Angeles County   \n",
       "\n",
       "         yhat_baseline  predictions   residual  residual_baseline  \\\n",
       "2014110  460758.592666    522151.01  109854.01       48461.592666   \n",
       "432230   460758.592666     24968.82 -171321.18      264468.592666   \n",
       "\n",
       "         predictions2     residual2    residual^2  baseline_residual^2  \n",
       "2014110  5.084435e+08  5.080312e+08  1.206790e+10         2.348526e+09  \n",
       "432230   2.685868e+08  2.683905e+08  2.935095e+10         6.994364e+10  "
      ]
     },
     "execution_count": 42,
     "metadata": {},
     "output_type": "execute_result"
    }
   ],
   "source": [
    "train['residual^2'] = train.residual**2\n",
    "train['baseline_residual^2'] = train.residual_baseline**2\n",
    "\n",
    "train.head(2)"
   ]
  },
  {
   "cell_type": "code",
   "execution_count": 43,
   "id": "6195c55d",
   "metadata": {},
   "outputs": [
    {
     "name": "stdout",
     "output_type": "stream",
     "text": [
      "SSE = 452955081068217792.0\n",
      "SSE Baseline = 550286459631354816.0\n"
     ]
    }
   ],
   "source": [
    "SSE = train['residual^2'].sum()\n",
    "SSE_baseline = train['baseline_residual^2'].sum()\n",
    "\n",
    "print('SSE =', \"{:.1f}\".format(SSE))\n",
    "print(\"SSE Baseline =\", \"{:.1f}\".format(SSE_baseline))"
   ]
  },
  {
   "cell_type": "markdown",
   "id": "829e6f8f",
   "metadata": {},
   "source": [
    "#### ESS"
   ]
  },
  {
   "cell_type": "code",
   "execution_count": 18,
   "id": "ea87e6cd",
   "metadata": {},
   "outputs": [
    {
     "data": {
      "text/plain": [
       "9.73313785497304e+16"
      ]
     },
     "execution_count": 18,
     "metadata": {},
     "output_type": "execute_result"
    }
   ],
   "source": [
    "ESS = sum((train.predictions - train.Tax_Appraised_Value.mean())**2)\n",
    "ESS"
   ]
  },
  {
   "cell_type": "markdown",
   "id": "2c9b6e86",
   "metadata": {},
   "source": [
    "#### TSS"
   ]
  },
  {
   "cell_type": "code",
   "execution_count": 19,
   "id": "80fa29c2",
   "metadata": {},
   "outputs": [
    {
     "data": {
      "text/plain": [
       "5.5028645961794816e+17"
      ]
     },
     "execution_count": 19,
     "metadata": {},
     "output_type": "execute_result"
    }
   ],
   "source": [
    "TSS = ESS + SSE\n",
    "TSS"
   ]
  },
  {
   "cell_type": "code",
   "execution_count": 20,
   "id": "fdc74d4e",
   "metadata": {},
   "outputs": [
    {
     "data": {
      "text/plain": [
       "5.502864596313548e+17"
      ]
     },
     "execution_count": 20,
     "metadata": {},
     "output_type": "execute_result"
    }
   ],
   "source": [
    "ESS_baseline = sum((train.yhat_baseline - train.Tax_Appraised_Value.mean())**2)\n",
    "TSS_baseline = ESS_baseline + SSE_baseline\n",
    "TSS_baseline"
   ]
  },
  {
   "cell_type": "markdown",
   "id": "bba491b2",
   "metadata": {},
   "source": [
    "#### R2"
   ]
  },
  {
   "cell_type": "code",
   "execution_count": 21,
   "id": "84441471",
   "metadata": {},
   "outputs": [
    {
     "data": {
      "text/plain": [
       "0.17687402051888657"
      ]
     },
     "execution_count": 21,
     "metadata": {},
     "output_type": "execute_result"
    }
   ],
   "source": [
    "R2 = ESS/TSS\n",
    "R2"
   ]
  },
  {
   "cell_type": "code",
   "execution_count": 22,
   "id": "1e3a3685",
   "metadata": {},
   "outputs": [
    {
     "data": {
      "text/plain": [
       "0.0"
      ]
     },
     "execution_count": 22,
     "metadata": {},
     "output_type": "execute_result"
    }
   ],
   "source": [
    "R2_baseline = ESS_baseline/TSS_baseline\n",
    "R2_baseline"
   ]
  },
  {
   "cell_type": "code",
   "execution_count": 23,
   "id": "637fc7bf",
   "metadata": {},
   "outputs": [
    {
     "name": "stdout",
     "output_type": "stream",
     "text": [
      "Explained Variance =  0.177\n"
     ]
    }
   ],
   "source": [
    "evs = explained_variance_score(train.Tax_Appraised_Value, train.predictions)\n",
    "print('Explained Variance = ', round(evs,3))"
   ]
  },
  {
   "cell_type": "markdown",
   "id": "46a06d32",
   "metadata": {},
   "source": [
    "#### MSE"
   ]
  },
  {
   "cell_type": "code",
   "execution_count": 45,
   "id": "ae79581c",
   "metadata": {
    "scrolled": true
   },
   "outputs": [
    {
     "name": "stdout",
     "output_type": "stream",
     "text": [
      "MSE =  378872605102.2\n",
      "MSE baseline =  460285077322.2\n"
     ]
    }
   ],
   "source": [
    "MSE = SSE/len(train)\n",
    "MSE_baseline = SSE_baseline/len(train)\n",
    "\n",
    "print(\"MSE = \", \"{:.1f}\".format(MSE))\n",
    "print(\"MSE baseline = \", \"{:.1f}\".format(MSE_baseline))"
   ]
  },
  {
   "cell_type": "markdown",
   "id": "1f86067f",
   "metadata": {},
   "source": [
    "#### RMSE"
   ]
  },
  {
   "cell_type": "code",
   "execution_count": 46,
   "id": "bfb01c34",
   "metadata": {},
   "outputs": [
    {
     "name": "stdout",
     "output_type": "stream",
     "text": [
      "RMSE =  615526.3\n",
      "RMSE baseline =  678443.1\n"
     ]
    }
   ],
   "source": [
    "from math import sqrt\n",
    "RMSE = sqrt(MSE)\n",
    "RMSE_baseline =  sqrt(MSE_baseline)\n",
    "\n",
    "\n",
    "print(\"RMSE = \", \"{:.1f}\".format(RMSE))\n",
    "print(\"RMSE baseline = \", \"{:.1f}\".format(RMSE_baseline))"
   ]
  },
  {
   "cell_type": "markdown",
   "id": "bd0d0165",
   "metadata": {},
   "source": [
    "### Data not Scaled\n",
    " "
   ]
  },
  {
   "cell_type": "code",
   "execution_count": 24,
   "id": "319e1f09",
   "metadata": {},
   "outputs": [],
   "source": [
    "model2 = LinearRegression().fit(train[['Square_Footage']], train.Tax_Appraised_Value)\n",
    "predictions2 = np.round(model.predict(train[['Square_Footage']]),2)"
   ]
  },
  {
   "cell_type": "code",
   "execution_count": 48,
   "id": "6988be74",
   "metadata": {},
   "outputs": [
    {
     "data": {
      "text/html": [
       "<div>\n",
       "<style scoped>\n",
       "    .dataframe tbody tr th:only-of-type {\n",
       "        vertical-align: middle;\n",
       "    }\n",
       "\n",
       "    .dataframe tbody tr th {\n",
       "        vertical-align: top;\n",
       "    }\n",
       "\n",
       "    .dataframe thead th {\n",
       "        text-align: right;\n",
       "    }\n",
       "</style>\n",
       "<table border=\"1\" class=\"dataframe\">\n",
       "  <thead>\n",
       "    <tr style=\"text-align: right;\">\n",
       "      <th></th>\n",
       "      <th>Number_of_Bedrooms</th>\n",
       "      <th>Number_of_Bathrooms</th>\n",
       "      <th>Square_Footage</th>\n",
       "      <th>Tax_Appraised_Value</th>\n",
       "      <th>Year_Built</th>\n",
       "      <th>Tax_Assessed</th>\n",
       "      <th>County</th>\n",
       "      <th>yhat_baseline</th>\n",
       "      <th>predictions</th>\n",
       "      <th>residual</th>\n",
       "      <th>residual_baseline</th>\n",
       "      <th>predictions2</th>\n",
       "      <th>residual2</th>\n",
       "      <th>residual^2</th>\n",
       "      <th>baseline_residual^2</th>\n",
       "    </tr>\n",
       "  </thead>\n",
       "  <tbody>\n",
       "    <tr>\n",
       "      <th>2014110</th>\n",
       "      <td>2</td>\n",
       "      <td>2.0</td>\n",
       "      <td>1779</td>\n",
       "      <td>412297</td>\n",
       "      <td>1956</td>\n",
       "      <td>5127.84</td>\n",
       "      <td>Los Angeles County</td>\n",
       "      <td>460758.592666</td>\n",
       "      <td>522151.01</td>\n",
       "      <td>109854.01</td>\n",
       "      <td>48461.592666</td>\n",
       "      <td>5.084435e+08</td>\n",
       "      <td>5.080312e+08</td>\n",
       "      <td>1.206790e+10</td>\n",
       "      <td>2.348526e+09</td>\n",
       "    </tr>\n",
       "    <tr>\n",
       "      <th>432230</th>\n",
       "      <td>3</td>\n",
       "      <td>2.0</td>\n",
       "      <td>939</td>\n",
       "      <td>196290</td>\n",
       "      <td>1959</td>\n",
       "      <td>2380.98</td>\n",
       "      <td>Los Angeles County</td>\n",
       "      <td>460758.592666</td>\n",
       "      <td>24968.82</td>\n",
       "      <td>-171321.18</td>\n",
       "      <td>264468.592666</td>\n",
       "      <td>2.685868e+08</td>\n",
       "      <td>2.683905e+08</td>\n",
       "      <td>2.935095e+10</td>\n",
       "      <td>6.994364e+10</td>\n",
       "    </tr>\n",
       "  </tbody>\n",
       "</table>\n",
       "</div>"
      ],
      "text/plain": [
       "         Number_of_Bedrooms  Number_of_Bathrooms  Square_Footage  \\\n",
       "2014110                   2                  2.0            1779   \n",
       "432230                    3                  2.0             939   \n",
       "\n",
       "         Tax_Appraised_Value  Year_Built  Tax_Assessed              County  \\\n",
       "2014110               412297        1956       5127.84  Los Angeles County   \n",
       "432230                196290        1959       2380.98  Los Angeles County   \n",
       "\n",
       "         yhat_baseline  predictions   residual  residual_baseline  \\\n",
       "2014110  460758.592666    522151.01  109854.01       48461.592666   \n",
       "432230   460758.592666     24968.82 -171321.18      264468.592666   \n",
       "\n",
       "         predictions2     residual2    residual^2  baseline_residual^2  \n",
       "2014110  5.084435e+08  5.080312e+08  1.206790e+10         2.348526e+09  \n",
       "432230   2.685868e+08  2.683905e+08  2.935095e+10         6.994364e+10  "
      ]
     },
     "execution_count": 48,
     "metadata": {},
     "output_type": "execute_result"
    }
   ],
   "source": [
    "train['predictions2'] = np.round(predictions2,2)\n",
    "train.head(2)"
   ]
  },
  {
   "cell_type": "code",
   "execution_count": 47,
   "id": "055ad373",
   "metadata": {},
   "outputs": [
    {
     "data": {
      "text/html": [
       "<div>\n",
       "<style scoped>\n",
       "    .dataframe tbody tr th:only-of-type {\n",
       "        vertical-align: middle;\n",
       "    }\n",
       "\n",
       "    .dataframe tbody tr th {\n",
       "        vertical-align: top;\n",
       "    }\n",
       "\n",
       "    .dataframe thead th {\n",
       "        text-align: right;\n",
       "    }\n",
       "</style>\n",
       "<table border=\"1\" class=\"dataframe\">\n",
       "  <thead>\n",
       "    <tr style=\"text-align: right;\">\n",
       "      <th></th>\n",
       "      <th>Number_of_Bedrooms</th>\n",
       "      <th>Number_of_Bathrooms</th>\n",
       "      <th>Square_Footage</th>\n",
       "      <th>Tax_Appraised_Value</th>\n",
       "      <th>Year_Built</th>\n",
       "      <th>Tax_Assessed</th>\n",
       "      <th>County</th>\n",
       "      <th>yhat_baseline</th>\n",
       "      <th>predictions</th>\n",
       "      <th>residual</th>\n",
       "      <th>residual_baseline</th>\n",
       "      <th>predictions2</th>\n",
       "      <th>residual2</th>\n",
       "      <th>residual^2</th>\n",
       "      <th>baseline_residual^2</th>\n",
       "    </tr>\n",
       "  </thead>\n",
       "  <tbody>\n",
       "    <tr>\n",
       "      <th>2014110</th>\n",
       "      <td>2</td>\n",
       "      <td>2.0</td>\n",
       "      <td>1779</td>\n",
       "      <td>412297</td>\n",
       "      <td>1956</td>\n",
       "      <td>5127.84</td>\n",
       "      <td>Los Angeles County</td>\n",
       "      <td>460758.592666</td>\n",
       "      <td>522151.01</td>\n",
       "      <td>109854.01</td>\n",
       "      <td>48461.592666</td>\n",
       "      <td>5.084435e+08</td>\n",
       "      <td>5.080312e+08</td>\n",
       "      <td>1.206790e+10</td>\n",
       "      <td>2.348526e+09</td>\n",
       "    </tr>\n",
       "    <tr>\n",
       "      <th>432230</th>\n",
       "      <td>3</td>\n",
       "      <td>2.0</td>\n",
       "      <td>939</td>\n",
       "      <td>196290</td>\n",
       "      <td>1959</td>\n",
       "      <td>2380.98</td>\n",
       "      <td>Los Angeles County</td>\n",
       "      <td>460758.592666</td>\n",
       "      <td>24968.82</td>\n",
       "      <td>-171321.18</td>\n",
       "      <td>264468.592666</td>\n",
       "      <td>2.685868e+08</td>\n",
       "      <td>2.683905e+08</td>\n",
       "      <td>2.935095e+10</td>\n",
       "      <td>6.994364e+10</td>\n",
       "    </tr>\n",
       "  </tbody>\n",
       "</table>\n",
       "</div>"
      ],
      "text/plain": [
       "         Number_of_Bedrooms  Number_of_Bathrooms  Square_Footage  \\\n",
       "2014110                   2                  2.0            1779   \n",
       "432230                    3                  2.0             939   \n",
       "\n",
       "         Tax_Appraised_Value  Year_Built  Tax_Assessed              County  \\\n",
       "2014110               412297        1956       5127.84  Los Angeles County   \n",
       "432230                196290        1959       2380.98  Los Angeles County   \n",
       "\n",
       "         yhat_baseline  predictions   residual  residual_baseline  \\\n",
       "2014110  460758.592666    522151.01  109854.01       48461.592666   \n",
       "432230   460758.592666     24968.82 -171321.18      264468.592666   \n",
       "\n",
       "         predictions2     residual2    residual^2  baseline_residual^2  \n",
       "2014110  5.084435e+08  5.080312e+08  1.206790e+10         2.348526e+09  \n",
       "432230   2.685868e+08  2.683905e+08  2.935095e+10         6.994364e+10  "
      ]
     },
     "execution_count": 47,
     "metadata": {},
     "output_type": "execute_result"
    }
   ],
   "source": [
    "train['residual2'] = train['predictions2'] - train['Tax_Appraised_Value']\n",
    "train.head(2)"
   ]
  },
  {
   "cell_type": "code",
   "execution_count": 27,
   "id": "86fe8541",
   "metadata": {},
   "outputs": [
    {
     "data": {
      "text/plain": [
       "5.033772849231484e+23"
      ]
     },
     "execution_count": 27,
     "metadata": {},
     "output_type": "execute_result"
    }
   ],
   "source": [
    "ESS2 = sum((train.predictions2 - train.Tax_Appraised_Value.mean())**2)\n",
    "ESS2"
   ]
  },
  {
   "cell_type": "code",
   "execution_count": 28,
   "id": "f2ec80c4",
   "metadata": {},
   "outputs": [
    {
     "data": {
      "text/plain": [
       "5.031049323439534e+23"
      ]
     },
     "execution_count": 28,
     "metadata": {},
     "output_type": "execute_result"
    }
   ],
   "source": [
    "SSE2 = mean_squared_error(train.Tax_Appraised_Value, train.predictions2)*len(train)\n",
    "SSE2"
   ]
  },
  {
   "cell_type": "code",
   "execution_count": 29,
   "id": "c2d95e40",
   "metadata": {},
   "outputs": [
    {
     "data": {
      "text/plain": [
       "1.0064822172671019e+24"
      ]
     },
     "execution_count": 29,
     "metadata": {},
     "output_type": "execute_result"
    }
   ],
   "source": [
    "TSS2 = ESS2 + SSE2\n",
    "TSS2"
   ]
  },
  {
   "cell_type": "code",
   "execution_count": 30,
   "id": "34baa8ab",
   "metadata": {},
   "outputs": [
    {
     "data": {
      "text/plain": [
       "0.50013529925046"
      ]
     },
     "execution_count": 30,
     "metadata": {},
     "output_type": "execute_result"
    }
   ],
   "source": [
    "R22 = ESS2/TSS2\n",
    "R22"
   ]
  },
  {
   "cell_type": "code",
   "execution_count": 31,
   "id": "d898922d",
   "metadata": {},
   "outputs": [
    {
     "name": "stdout",
     "output_type": "stream",
     "text": [
      "Explained Variance =  -298198.536\n"
     ]
    }
   ],
   "source": [
    "evs2 = explained_variance_score(train.Tax_Appraised_Value, train.predictions2)\n",
    "print('Explained Variance = ', round(evs2,3))"
   ]
  },
  {
   "cell_type": "code",
   "execution_count": null,
   "id": "73717d2b",
   "metadata": {},
   "outputs": [],
   "source": []
  },
  {
   "cell_type": "code",
   "execution_count": null,
   "id": "bc4cc674",
   "metadata": {},
   "outputs": [],
   "source": []
  },
  {
   "cell_type": "code",
   "execution_count": null,
   "id": "90cd6ffd",
   "metadata": {},
   "outputs": [],
   "source": []
  },
  {
   "cell_type": "code",
   "execution_count": null,
   "id": "5769da47",
   "metadata": {},
   "outputs": [],
   "source": []
  }
 ],
 "metadata": {
  "kernelspec": {
   "display_name": "Python 3 (ipykernel)",
   "language": "python",
   "name": "python3"
  },
  "language_info": {
   "codemirror_mode": {
    "name": "ipython",
    "version": 3
   },
   "file_extension": ".py",
   "mimetype": "text/x-python",
   "name": "python",
   "nbconvert_exporter": "python",
   "pygments_lexer": "ipython3",
   "version": "3.9.7"
  }
 },
 "nbformat": 4,
 "nbformat_minor": 5
}
