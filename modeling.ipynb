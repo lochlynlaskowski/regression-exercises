{
 "cells": [
  {
   "cell_type": "code",
   "execution_count": 1,
   "id": "a922ce15",
   "metadata": {},
   "outputs": [],
   "source": [
    "import warnings\n",
    "warnings.filterwarnings(\"ignore\")\n",
    "\n",
    "import pandas as pd\n",
    "import numpy as np\n",
    "\n",
    "import matplotlib.pyplot as plt\n",
    "import seaborn as sns\n",
    "\n",
    "from sklearn.model_selection import train_test_split\n",
    "from scipy.stats import pearsonr, spearmanr\n",
    "\n",
    "import env\n",
    "import wrangle\n",
    "import sklearn.preprocessing\n",
    "from sklearn.linear_model import LinearRegression\n",
    "from sklearn.metrics import mean_squared_error\n",
    "import sklearn.preprocessing"
   ]
  },
  {
   "cell_type": "code",
   "execution_count": 2,
   "id": "818a3496",
   "metadata": {},
   "outputs": [],
   "source": [
    "df = wrangle.get_zillow_data()"
   ]
  },
  {
   "cell_type": "code",
   "execution_count": 3,
   "id": "5133dc6f",
   "metadata": {},
   "outputs": [],
   "source": [
    "df = wrangle.prepare_zillow_data(df)"
   ]
  },
  {
   "cell_type": "code",
   "execution_count": 8,
   "id": "24ccdc3d",
   "metadata": {},
   "outputs": [
    {
     "data": {
      "text/html": [
       "<div>\n",
       "<style scoped>\n",
       "    .dataframe tbody tr th:only-of-type {\n",
       "        vertical-align: middle;\n",
       "    }\n",
       "\n",
       "    .dataframe tbody tr th {\n",
       "        vertical-align: top;\n",
       "    }\n",
       "\n",
       "    .dataframe thead th {\n",
       "        text-align: right;\n",
       "    }\n",
       "</style>\n",
       "<table border=\"1\" class=\"dataframe\">\n",
       "  <thead>\n",
       "    <tr style=\"text-align: right;\">\n",
       "      <th></th>\n",
       "      <th>Number_of_Bedrooms</th>\n",
       "      <th>Number_of_Bathrooms</th>\n",
       "      <th>Square_Footage</th>\n",
       "      <th>Tax_Appraised_Value</th>\n",
       "      <th>Year_Built</th>\n",
       "      <th>Tax_Assessed</th>\n",
       "      <th>County</th>\n",
       "    </tr>\n",
       "  </thead>\n",
       "  <tbody>\n",
       "    <tr>\n",
       "      <th>4</th>\n",
       "      <td>4</td>\n",
       "      <td>2.0</td>\n",
       "      <td>3633</td>\n",
       "      <td>296425</td>\n",
       "      <td>2005</td>\n",
       "      <td>6941.39</td>\n",
       "      <td>Los Angeles County</td>\n",
       "    </tr>\n",
       "  </tbody>\n",
       "</table>\n",
       "</div>"
      ],
      "text/plain": [
       "   Number_of_Bedrooms  Number_of_Bathrooms  Square_Footage  \\\n",
       "4                   4                  2.0            3633   \n",
       "\n",
       "   Tax_Appraised_Value  Year_Built  Tax_Assessed              County  \n",
       "4               296425        2005       6941.39  Los Angeles County  "
      ]
     },
     "execution_count": 8,
     "metadata": {},
     "output_type": "execute_result"
    }
   ],
   "source": [
    "df.head(1)"
   ]
  },
  {
   "cell_type": "code",
   "execution_count": 5,
   "id": "a78c0958",
   "metadata": {},
   "outputs": [],
   "source": [
    "train, validate, test = wrangle.split_zillow_data(df)"
   ]
  },
  {
   "cell_type": "code",
   "execution_count": 6,
   "id": "32fc7f00",
   "metadata": {},
   "outputs": [],
   "source": [
    "train_scaled = wrangle.scale_zillow_data(train)"
   ]
  },
  {
   "cell_type": "code",
   "execution_count": 9,
   "id": "7c3677a7",
   "metadata": {},
   "outputs": [
    {
     "data": {
      "text/html": [
       "<div>\n",
       "<style scoped>\n",
       "    .dataframe tbody tr th:only-of-type {\n",
       "        vertical-align: middle;\n",
       "    }\n",
       "\n",
       "    .dataframe tbody tr th {\n",
       "        vertical-align: top;\n",
       "    }\n",
       "\n",
       "    .dataframe thead th {\n",
       "        text-align: right;\n",
       "    }\n",
       "</style>\n",
       "<table border=\"1\" class=\"dataframe\">\n",
       "  <thead>\n",
       "    <tr style=\"text-align: right;\">\n",
       "      <th></th>\n",
       "      <th>Number_of_Bedrooms</th>\n",
       "      <th>Number_of_Bathrooms</th>\n",
       "      <th>Square_Footage</th>\n",
       "      <th>Tax_Appraised_Value</th>\n",
       "      <th>Year_Built</th>\n",
       "      <th>Tax_Assessed</th>\n",
       "      <th>County</th>\n",
       "    </tr>\n",
       "  </thead>\n",
       "  <tbody>\n",
       "    <tr>\n",
       "      <th>2014110</th>\n",
       "      <td>-1.343287</td>\n",
       "      <td>-0.177827</td>\n",
       "      <td>0.213636</td>\n",
       "      <td>412297</td>\n",
       "      <td>1956</td>\n",
       "      <td>5127.84</td>\n",
       "      <td>Los Angeles County</td>\n",
       "    </tr>\n",
       "  </tbody>\n",
       "</table>\n",
       "</div>"
      ],
      "text/plain": [
       "         Number_of_Bedrooms  Number_of_Bathrooms  Square_Footage  \\\n",
       "2014110           -1.343287            -0.177827        0.213636   \n",
       "\n",
       "         Tax_Appraised_Value  Year_Built  Tax_Assessed              County  \n",
       "2014110               412297        1956       5127.84  Los Angeles County  "
      ]
     },
     "execution_count": 9,
     "metadata": {},
     "output_type": "execute_result"
    }
   ],
   "source": [
    "train_scaled.head(1)"
   ]
  },
  {
   "cell_type": "code",
   "execution_count": 16,
   "id": "0ac32736",
   "metadata": {},
   "outputs": [],
   "source": [
    "X_train = train_scaled.drop(columns ='Tax_Appraised_Value')\n",
    "y_train = train_scaled['Tax_Appraised_Value']\n",
    "\n",
    "X_validate = validate.drop(columns ='Tax_Appraised_Value')\n",
    "y_validate = validate['Tax_Appraised_Value']\n",
    "\n",
    "X_test = test.drop(columns ='Tax_Appraised_Value')\n",
    "y_test = test['Tax_Appraised_Value']"
   ]
  },
  {
   "cell_type": "code",
   "execution_count": 18,
   "id": "a47ca1de",
   "metadata": {},
   "outputs": [
    {
     "data": {
      "text/html": [
       "<div>\n",
       "<style scoped>\n",
       "    .dataframe tbody tr th:only-of-type {\n",
       "        vertical-align: middle;\n",
       "    }\n",
       "\n",
       "    .dataframe tbody tr th {\n",
       "        vertical-align: top;\n",
       "    }\n",
       "\n",
       "    .dataframe thead th {\n",
       "        text-align: right;\n",
       "    }\n",
       "</style>\n",
       "<table border=\"1\" class=\"dataframe\">\n",
       "  <thead>\n",
       "    <tr style=\"text-align: right;\">\n",
       "      <th></th>\n",
       "      <th>Number_of_Bedrooms</th>\n",
       "      <th>Number_of_Bathrooms</th>\n",
       "      <th>Square_Footage</th>\n",
       "      <th>Year_Built</th>\n",
       "      <th>Tax_Assessed</th>\n",
       "      <th>County</th>\n",
       "    </tr>\n",
       "  </thead>\n",
       "  <tbody>\n",
       "    <tr>\n",
       "      <th>2014110</th>\n",
       "      <td>-1.343287</td>\n",
       "      <td>-0.177827</td>\n",
       "      <td>0.213636</td>\n",
       "      <td>1956</td>\n",
       "      <td>5127.84</td>\n",
       "      <td>Los Angeles County</td>\n",
       "    </tr>\n",
       "  </tbody>\n",
       "</table>\n",
       "</div>"
      ],
      "text/plain": [
       "         Number_of_Bedrooms  Number_of_Bathrooms  Square_Footage  Year_Built  \\\n",
       "2014110           -1.343287            -0.177827        0.213636        1956   \n",
       "\n",
       "         Tax_Assessed              County  \n",
       "2014110       5127.84  Los Angeles County  "
      ]
     },
     "execution_count": 18,
     "metadata": {},
     "output_type": "execute_result"
    }
   ],
   "source": [
    "X_train.head(1)"
   ]
  },
  {
   "cell_type": "code",
   "execution_count": 19,
   "id": "23a5422f",
   "metadata": {},
   "outputs": [],
   "source": [
    "y_train = pd.DataFrame(y_train)\n",
    "y_validate = pd.DataFrame(y_validate)"
   ]
  },
  {
   "cell_type": "code",
   "execution_count": 20,
   "id": "ac543067",
   "metadata": {},
   "outputs": [],
   "source": [
    "y_train['TAV_pred_mean'] = round(train_scaled.Tax_Appraised_Value.mean(),2)\n",
    "y_validate['TAV_pred_mean'] = round(train_scaled.Tax_Appraised_Value.mean(),2)"
   ]
  },
  {
   "cell_type": "code",
   "execution_count": 21,
   "id": "bdbfea4e",
   "metadata": {},
   "outputs": [],
   "source": [
    "y_train['TAV_pred_median'] = round(train_scaled.Tax_Appraised_Value.median(),2)\n",
    "y_validate['TAV_pred_median'] = round(train_scaled.Tax_Appraised_Value.median(),2)"
   ]
  },
  {
   "cell_type": "code",
   "execution_count": 22,
   "id": "f6b04418",
   "metadata": {},
   "outputs": [
    {
     "data": {
      "text/html": [
       "<div>\n",
       "<style scoped>\n",
       "    .dataframe tbody tr th:only-of-type {\n",
       "        vertical-align: middle;\n",
       "    }\n",
       "\n",
       "    .dataframe tbody tr th {\n",
       "        vertical-align: top;\n",
       "    }\n",
       "\n",
       "    .dataframe thead th {\n",
       "        text-align: right;\n",
       "    }\n",
       "</style>\n",
       "<table border=\"1\" class=\"dataframe\">\n",
       "  <thead>\n",
       "    <tr style=\"text-align: right;\">\n",
       "      <th></th>\n",
       "      <th>Tax_Appraised_Value</th>\n",
       "      <th>TAV_pred_mean</th>\n",
       "      <th>TAV_pred_median</th>\n",
       "    </tr>\n",
       "  </thead>\n",
       "  <tbody>\n",
       "    <tr>\n",
       "      <th>2014110</th>\n",
       "      <td>412297</td>\n",
       "      <td>460758.59</td>\n",
       "      <td>328869.5</td>\n",
       "    </tr>\n",
       "  </tbody>\n",
       "</table>\n",
       "</div>"
      ],
      "text/plain": [
       "         Tax_Appraised_Value  TAV_pred_mean  TAV_pred_median\n",
       "2014110               412297      460758.59         328869.5"
      ]
     },
     "execution_count": 22,
     "metadata": {},
     "output_type": "execute_result"
    }
   ],
   "source": [
    "y_train.head(1)"
   ]
  },
  {
   "cell_type": "code",
   "execution_count": 28,
   "id": "95df5c6a",
   "metadata": {},
   "outputs": [],
   "source": [
    "rmse_train = mean_squared_error(y_train.Tax_Appraised_Value, y_train.TAV_pred_mean)**(1/2)\n",
    "rmse_validate = mean_squared_error(y_validate.Tax_Appraised_Value, y_validate.TAV_pred_mean)**(1/2)"
   ]
  },
  {
   "cell_type": "code",
   "execution_count": 29,
   "id": "35699a42",
   "metadata": {},
   "outputs": [
    {
     "name": "stdout",
     "output_type": "stream",
     "text": [
      "RMSE using Mean\n",
      "Train/In-Sample:  678443.13 \n",
      "Validate/Out-of-Sample:  687825.15\n"
     ]
    }
   ],
   "source": [
    "print(\"RMSE using Mean\\nTrain/In-Sample: \", round(rmse_train, 2), \n",
    "      \"\\nValidate/Out-of-Sample: \", round(rmse_validate, 2))"
   ]
  },
  {
   "cell_type": "code",
   "execution_count": 30,
   "id": "8bdae018",
   "metadata": {},
   "outputs": [],
   "source": [
    "rmse_train = mean_squared_error(y_train.Tax_Appraised_Value, y_train.TAV_pred_median)**(1/2)\n",
    "rmse_validate = mean_squared_error(y_validate.Tax_Appraised_Value, y_validate.TAV_pred_median)**(1/2)"
   ]
  },
  {
   "cell_type": "code",
   "execution_count": 31,
   "id": "0b3f0ef1",
   "metadata": {},
   "outputs": [
    {
     "name": "stdout",
     "output_type": "stream",
     "text": [
      "RMSE using Median\n",
      "Train/In-Sample:  691143.84 \n",
      "Validate/Out-of-Sample:  700429.04\n"
     ]
    }
   ],
   "source": [
    "print(\"RMSE using Median\\nTrain/In-Sample: \", round(rmse_train, 2), \n",
    "      \"\\nValidate/Out-of-Sample: \", round(rmse_validate, 2))"
   ]
  },
  {
   "cell_type": "code",
   "execution_count": null,
   "id": "32a43201",
   "metadata": {},
   "outputs": [],
   "source": []
  },
  {
   "cell_type": "code",
   "execution_count": null,
   "id": "2d35ebd6",
   "metadata": {},
   "outputs": [],
   "source": []
  },
  {
   "cell_type": "code",
   "execution_count": null,
   "id": "d11da248",
   "metadata": {},
   "outputs": [],
   "source": []
  },
  {
   "cell_type": "code",
   "execution_count": null,
   "id": "133681e5",
   "metadata": {},
   "outputs": [],
   "source": []
  },
  {
   "cell_type": "code",
   "execution_count": null,
   "id": "8b05a3d4",
   "metadata": {},
   "outputs": [],
   "source": []
  },
  {
   "cell_type": "code",
   "execution_count": null,
   "id": "a4d728ec",
   "metadata": {},
   "outputs": [],
   "source": []
  }
 ],
 "metadata": {
  "kernelspec": {
   "display_name": "Python 3 (ipykernel)",
   "language": "python",
   "name": "python3"
  },
  "language_info": {
   "codemirror_mode": {
    "name": "ipython",
    "version": 3
   },
   "file_extension": ".py",
   "mimetype": "text/x-python",
   "name": "python",
   "nbconvert_exporter": "python",
   "pygments_lexer": "ipython3",
   "version": "3.9.7"
  }
 },
 "nbformat": 4,
 "nbformat_minor": 5
}
