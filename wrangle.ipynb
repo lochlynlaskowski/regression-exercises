{
 "cells": [
  {
   "cell_type": "code",
   "execution_count": 1,
   "id": "a56797f8",
   "metadata": {},
   "outputs": [],
   "source": [
    "import pandas as pd\n",
    "import numpy as np\n",
    "import os\n",
    "from env import get_db_url\n",
    "import wrangle\n",
    "import seaborn as sns\n",
    "from statistics import stdev\n",
    "from sklearn.model_selection import train_test_split"
   ]
  },
  {
   "cell_type": "code",
   "execution_count": 2,
   "id": "6634980a",
   "metadata": {},
   "outputs": [],
   "source": [
    "def get_zillow_data():\n",
    "    '''Returns a dataframe of all single family residential properties from 2017.'''\n",
    "    filename = \"zillow.csv\"\n",
    "\n",
    "    if os.path.isfile(filename):\n",
    "        return pd.read_csv(filename)\n",
    "    else:\n",
    "        sql_query = '''\n",
    "        SELECT properties_2017.bedroomcnt AS Number_of_Bedrooms,\n",
    "        properties_2017.bathroomcnt AS Number_of_Bathrooms,\n",
    "        properties_2017.calculatedfinishedsquarefeet AS Square_Footage, \n",
    "        properties_2017.taxvaluedollarcnt AS Tax_Appraised_Value, \n",
    "        properties_2017.yearbuilt AS Year_Built, \n",
    "        properties_2017.taxamount AS Tax_Assessed, properties_2017.fips AS 'County_Code'\n",
    "        FROM properties_2017\n",
    "        JOIN propertylandusetype using (propertylandusetypeid)\n",
    "        WHERE propertylandusedesc = \"Single Family Residential\";\n",
    "        '''\n",
    "        df = pd.read_sql(sql_query, get_db_url('zillow'))\n",
    "        df.to_csv(filename)\n",
    "    return df\n",
    "\n"
   ]
  },
  {
   "cell_type": "code",
   "execution_count": 3,
   "id": "6c8a6712",
   "metadata": {},
   "outputs": [
    {
     "data": {
      "text/html": [
       "<div>\n",
       "<style scoped>\n",
       "    .dataframe tbody tr th:only-of-type {\n",
       "        vertical-align: middle;\n",
       "    }\n",
       "\n",
       "    .dataframe tbody tr th {\n",
       "        vertical-align: top;\n",
       "    }\n",
       "\n",
       "    .dataframe thead th {\n",
       "        text-align: right;\n",
       "    }\n",
       "</style>\n",
       "<table border=\"1\" class=\"dataframe\">\n",
       "  <thead>\n",
       "    <tr style=\"text-align: right;\">\n",
       "      <th></th>\n",
       "      <th>Number_of_Bedrooms</th>\n",
       "      <th>Number_of_Bathrooms</th>\n",
       "      <th>Square_Footage</th>\n",
       "      <th>Tax_Appraised_Value</th>\n",
       "      <th>Year_Built</th>\n",
       "      <th>Tax_Assessed</th>\n",
       "      <th>County_Code</th>\n",
       "    </tr>\n",
       "  </thead>\n",
       "  <tbody>\n",
       "    <tr>\n",
       "      <th>0</th>\n",
       "      <td>0.0</td>\n",
       "      <td>0.0</td>\n",
       "      <td>NaN</td>\n",
       "      <td>27516.0</td>\n",
       "      <td>NaN</td>\n",
       "      <td>NaN</td>\n",
       "      <td>6037.0</td>\n",
       "    </tr>\n",
       "    <tr>\n",
       "      <th>1</th>\n",
       "      <td>0.0</td>\n",
       "      <td>0.0</td>\n",
       "      <td>NaN</td>\n",
       "      <td>10.0</td>\n",
       "      <td>NaN</td>\n",
       "      <td>NaN</td>\n",
       "      <td>6037.0</td>\n",
       "    </tr>\n",
       "    <tr>\n",
       "      <th>2</th>\n",
       "      <td>0.0</td>\n",
       "      <td>0.0</td>\n",
       "      <td>NaN</td>\n",
       "      <td>10.0</td>\n",
       "      <td>NaN</td>\n",
       "      <td>NaN</td>\n",
       "      <td>6037.0</td>\n",
       "    </tr>\n",
       "    <tr>\n",
       "      <th>3</th>\n",
       "      <td>0.0</td>\n",
       "      <td>0.0</td>\n",
       "      <td>NaN</td>\n",
       "      <td>2108.0</td>\n",
       "      <td>NaN</td>\n",
       "      <td>174.21</td>\n",
       "      <td>6037.0</td>\n",
       "    </tr>\n",
       "    <tr>\n",
       "      <th>4</th>\n",
       "      <td>4.0</td>\n",
       "      <td>2.0</td>\n",
       "      <td>3633.0</td>\n",
       "      <td>296425.0</td>\n",
       "      <td>2005.0</td>\n",
       "      <td>6941.39</td>\n",
       "      <td>6037.0</td>\n",
       "    </tr>\n",
       "  </tbody>\n",
       "</table>\n",
       "</div>"
      ],
      "text/plain": [
       "   Number_of_Bedrooms  Number_of_Bathrooms  Square_Footage  \\\n",
       "0                 0.0                  0.0             NaN   \n",
       "1                 0.0                  0.0             NaN   \n",
       "2                 0.0                  0.0             NaN   \n",
       "3                 0.0                  0.0             NaN   \n",
       "4                 4.0                  2.0          3633.0   \n",
       "\n",
       "   Tax_Appraised_Value  Year_Built  Tax_Assessed  County_Code  \n",
       "0              27516.0         NaN           NaN       6037.0  \n",
       "1                 10.0         NaN           NaN       6037.0  \n",
       "2                 10.0         NaN           NaN       6037.0  \n",
       "3               2108.0         NaN        174.21       6037.0  \n",
       "4             296425.0      2005.0       6941.39       6037.0  "
      ]
     },
     "execution_count": 3,
     "metadata": {},
     "output_type": "execute_result"
    }
   ],
   "source": [
    "df = get_zillow_data()\n",
    "df.head()"
   ]
  },
  {
   "cell_type": "code",
   "execution_count": 4,
   "id": "63a3deed",
   "metadata": {},
   "outputs": [],
   "source": [
    "\n",
    "sql_query = '''\n",
    "      SELECT properties_2017.bedroomcnt AS Number_of_Bedrooms,\n",
    "properties_2017.bathroomcnt AS Number_of_Bathrooms,\n",
    "properties_2017.calculatedfinishedsquarefeet AS Square_Footage, \n",
    "properties_2017.taxvaluedollarcnt AS Tax_Appraised_Value, \n",
    "properties_2017.yearbuilt AS Year_Built, \n",
    "properties_2017.taxamount AS Tax_Assessed, properties_2017.fips AS 'County_Code'\n",
    "FROM properties_2017\n",
    "JOIN propertylandusetype using (propertylandusetypeid)\n",
    "WHERE propertylandusedesc = \"Single Family Residential\"\n",
    "       '''\n",
    "df = pd.read_sql(sql_query, get_db_url('zillow'))"
   ]
  },
  {
   "cell_type": "code",
   "execution_count": 5,
   "id": "7b9baa0c",
   "metadata": {},
   "outputs": [
    {
     "data": {
      "text/html": [
       "<div>\n",
       "<style scoped>\n",
       "    .dataframe tbody tr th:only-of-type {\n",
       "        vertical-align: middle;\n",
       "    }\n",
       "\n",
       "    .dataframe tbody tr th {\n",
       "        vertical-align: top;\n",
       "    }\n",
       "\n",
       "    .dataframe thead th {\n",
       "        text-align: right;\n",
       "    }\n",
       "</style>\n",
       "<table border=\"1\" class=\"dataframe\">\n",
       "  <thead>\n",
       "    <tr style=\"text-align: right;\">\n",
       "      <th></th>\n",
       "      <th>Number_of_Bedrooms</th>\n",
       "      <th>Number_of_Bathrooms</th>\n",
       "      <th>Square_Footage</th>\n",
       "      <th>Tax_Appraised_Value</th>\n",
       "      <th>Year_Built</th>\n",
       "      <th>Tax_Assessed</th>\n",
       "      <th>County_Code</th>\n",
       "    </tr>\n",
       "  </thead>\n",
       "  <tbody>\n",
       "    <tr>\n",
       "      <th>0</th>\n",
       "      <td>0.0</td>\n",
       "      <td>0.0</td>\n",
       "      <td>NaN</td>\n",
       "      <td>27516.0</td>\n",
       "      <td>NaN</td>\n",
       "      <td>NaN</td>\n",
       "      <td>6037.0</td>\n",
       "    </tr>\n",
       "    <tr>\n",
       "      <th>1</th>\n",
       "      <td>0.0</td>\n",
       "      <td>0.0</td>\n",
       "      <td>NaN</td>\n",
       "      <td>10.0</td>\n",
       "      <td>NaN</td>\n",
       "      <td>NaN</td>\n",
       "      <td>6037.0</td>\n",
       "    </tr>\n",
       "    <tr>\n",
       "      <th>2</th>\n",
       "      <td>0.0</td>\n",
       "      <td>0.0</td>\n",
       "      <td>NaN</td>\n",
       "      <td>10.0</td>\n",
       "      <td>NaN</td>\n",
       "      <td>NaN</td>\n",
       "      <td>6037.0</td>\n",
       "    </tr>\n",
       "    <tr>\n",
       "      <th>3</th>\n",
       "      <td>0.0</td>\n",
       "      <td>0.0</td>\n",
       "      <td>NaN</td>\n",
       "      <td>2108.0</td>\n",
       "      <td>NaN</td>\n",
       "      <td>174.21</td>\n",
       "      <td>6037.0</td>\n",
       "    </tr>\n",
       "    <tr>\n",
       "      <th>4</th>\n",
       "      <td>4.0</td>\n",
       "      <td>2.0</td>\n",
       "      <td>3633.0</td>\n",
       "      <td>296425.0</td>\n",
       "      <td>2005.0</td>\n",
       "      <td>6941.39</td>\n",
       "      <td>6037.0</td>\n",
       "    </tr>\n",
       "  </tbody>\n",
       "</table>\n",
       "</div>"
      ],
      "text/plain": [
       "   Number_of_Bedrooms  Number_of_Bathrooms  Square_Footage  \\\n",
       "0                 0.0                  0.0             NaN   \n",
       "1                 0.0                  0.0             NaN   \n",
       "2                 0.0                  0.0             NaN   \n",
       "3                 0.0                  0.0             NaN   \n",
       "4                 4.0                  2.0          3633.0   \n",
       "\n",
       "   Tax_Appraised_Value  Year_Built  Tax_Assessed  County_Code  \n",
       "0              27516.0         NaN           NaN       6037.0  \n",
       "1                 10.0         NaN           NaN       6037.0  \n",
       "2                 10.0         NaN           NaN       6037.0  \n",
       "3               2108.0         NaN        174.21       6037.0  \n",
       "4             296425.0      2005.0       6941.39       6037.0  "
      ]
     },
     "execution_count": 5,
     "metadata": {},
     "output_type": "execute_result"
    }
   ],
   "source": [
    "df.head()"
   ]
  },
  {
   "cell_type": "code",
   "execution_count": 6,
   "id": "a9d68303",
   "metadata": {},
   "outputs": [
    {
     "data": {
      "text/plain": [
       "(2152863, 7)"
      ]
     },
     "execution_count": 6,
     "metadata": {},
     "output_type": "execute_result"
    }
   ],
   "source": [
    "df.shape"
   ]
  },
  {
   "cell_type": "code",
   "execution_count": 7,
   "id": "80aadad7",
   "metadata": {
    "scrolled": false
   },
   "outputs": [
    {
     "data": {
      "text/plain": [
       "Number_of_Bedrooms     0.000005\n",
       "Number_of_Bathrooms    0.000005\n",
       "Square_Footage         0.003941\n",
       "Tax_Appraised_Value    0.000229\n",
       "Year_Built             0.004337\n",
       "Tax_Assessed           0.002063\n",
       "County_Code            0.000000\n",
       "dtype: float64"
      ]
     },
     "execution_count": 7,
     "metadata": {},
     "output_type": "execute_result"
    }
   ],
   "source": [
    "df.isnull().mean()"
   ]
  },
  {
   "cell_type": "code",
   "execution_count": 8,
   "id": "43bd0ae2",
   "metadata": {},
   "outputs": [],
   "source": [
    "# nulls are a small percentage of the df, good to drop them\n",
    "df = df.dropna()"
   ]
  },
  {
   "cell_type": "code",
   "execution_count": 9,
   "id": "f473ca80",
   "metadata": {},
   "outputs": [
    {
     "data": {
      "text/html": [
       "<div>\n",
       "<style scoped>\n",
       "    .dataframe tbody tr th:only-of-type {\n",
       "        vertical-align: middle;\n",
       "    }\n",
       "\n",
       "    .dataframe tbody tr th {\n",
       "        vertical-align: top;\n",
       "    }\n",
       "\n",
       "    .dataframe thead th {\n",
       "        text-align: right;\n",
       "    }\n",
       "</style>\n",
       "<table border=\"1\" class=\"dataframe\">\n",
       "  <thead>\n",
       "    <tr style=\"text-align: right;\">\n",
       "      <th></th>\n",
       "      <th>count</th>\n",
       "      <th>mean</th>\n",
       "      <th>std</th>\n",
       "      <th>min</th>\n",
       "      <th>25%</th>\n",
       "      <th>50%</th>\n",
       "      <th>75%</th>\n",
       "      <th>max</th>\n",
       "    </tr>\n",
       "  </thead>\n",
       "  <tbody>\n",
       "    <tr>\n",
       "      <th>Number_of_Bedrooms</th>\n",
       "      <td>2140235.0</td>\n",
       "      <td>3.301419</td>\n",
       "      <td>0.932600</td>\n",
       "      <td>0.00</td>\n",
       "      <td>3.00</td>\n",
       "      <td>3.00</td>\n",
       "      <td>4.00</td>\n",
       "      <td>25.00</td>\n",
       "    </tr>\n",
       "    <tr>\n",
       "      <th>Number_of_Bathrooms</th>\n",
       "      <td>2140235.0</td>\n",
       "      <td>2.240352</td>\n",
       "      <td>0.990549</td>\n",
       "      <td>0.00</td>\n",
       "      <td>2.00</td>\n",
       "      <td>2.00</td>\n",
       "      <td>3.00</td>\n",
       "      <td>32.00</td>\n",
       "    </tr>\n",
       "    <tr>\n",
       "      <th>Square_Footage</th>\n",
       "      <td>2140235.0</td>\n",
       "      <td>1863.193970</td>\n",
       "      <td>1221.754161</td>\n",
       "      <td>1.00</td>\n",
       "      <td>1258.00</td>\n",
       "      <td>1623.00</td>\n",
       "      <td>2208.00</td>\n",
       "      <td>952576.00</td>\n",
       "    </tr>\n",
       "    <tr>\n",
       "      <th>Tax_Appraised_Value</th>\n",
       "      <td>2140235.0</td>\n",
       "      <td>460641.625164</td>\n",
       "      <td>677157.635675</td>\n",
       "      <td>22.00</td>\n",
       "      <td>189166.00</td>\n",
       "      <td>328296.00</td>\n",
       "      <td>534606.00</td>\n",
       "      <td>90188462.00</td>\n",
       "    </tr>\n",
       "    <tr>\n",
       "      <th>Year_Built</th>\n",
       "      <td>2140235.0</td>\n",
       "      <td>1960.967545</td>\n",
       "      <td>22.150563</td>\n",
       "      <td>1801.00</td>\n",
       "      <td>1949.00</td>\n",
       "      <td>1958.00</td>\n",
       "      <td>1976.00</td>\n",
       "      <td>2016.00</td>\n",
       "    </tr>\n",
       "    <tr>\n",
       "      <th>Tax_Assessed</th>\n",
       "      <td>2140235.0</td>\n",
       "      <td>5616.711322</td>\n",
       "      <td>7814.562798</td>\n",
       "      <td>6.34</td>\n",
       "      <td>2540.85</td>\n",
       "      <td>4111.47</td>\n",
       "      <td>6411.93</td>\n",
       "      <td>1078101.87</td>\n",
       "    </tr>\n",
       "    <tr>\n",
       "      <th>County_Code</th>\n",
       "      <td>2140235.0</td>\n",
       "      <td>6048.309556</td>\n",
       "      <td>20.344910</td>\n",
       "      <td>6037.00</td>\n",
       "      <td>6037.00</td>\n",
       "      <td>6037.00</td>\n",
       "      <td>6059.00</td>\n",
       "      <td>6111.00</td>\n",
       "    </tr>\n",
       "  </tbody>\n",
       "</table>\n",
       "</div>"
      ],
      "text/plain": [
       "                         count           mean            std      min  \\\n",
       "Number_of_Bedrooms   2140235.0       3.301419       0.932600     0.00   \n",
       "Number_of_Bathrooms  2140235.0       2.240352       0.990549     0.00   \n",
       "Square_Footage       2140235.0    1863.193970    1221.754161     1.00   \n",
       "Tax_Appraised_Value  2140235.0  460641.625164  677157.635675    22.00   \n",
       "Year_Built           2140235.0    1960.967545      22.150563  1801.00   \n",
       "Tax_Assessed         2140235.0    5616.711322    7814.562798     6.34   \n",
       "County_Code          2140235.0    6048.309556      20.344910  6037.00   \n",
       "\n",
       "                           25%        50%        75%          max  \n",
       "Number_of_Bedrooms        3.00       3.00       4.00        25.00  \n",
       "Number_of_Bathrooms       2.00       2.00       3.00        32.00  \n",
       "Square_Footage         1258.00    1623.00    2208.00    952576.00  \n",
       "Tax_Appraised_Value  189166.00  328296.00  534606.00  90188462.00  \n",
       "Year_Built             1949.00    1958.00    1976.00      2016.00  \n",
       "Tax_Assessed           2540.85    4111.47    6411.93   1078101.87  \n",
       "County_Code            6037.00    6037.00    6059.00      6111.00  "
      ]
     },
     "execution_count": 9,
     "metadata": {},
     "output_type": "execute_result"
    }
   ],
   "source": [
    "df.describe().T"
   ]
  },
  {
   "cell_type": "code",
   "execution_count": 10,
   "id": "925d70a4",
   "metadata": {
    "scrolled": true
   },
   "outputs": [
    {
     "name": "stdout",
     "output_type": "stream",
     "text": [
      "<class 'pandas.core.frame.DataFrame'>\n",
      "Int64Index: 2140235 entries, 4 to 2152862\n",
      "Data columns (total 7 columns):\n",
      " #   Column               Dtype  \n",
      "---  ------               -----  \n",
      " 0   Number_of_Bedrooms   float64\n",
      " 1   Number_of_Bathrooms  float64\n",
      " 2   Square_Footage       float64\n",
      " 3   Tax_Appraised_Value  float64\n",
      " 4   Year_Built           float64\n",
      " 5   Tax_Assessed         float64\n",
      " 6   County_Code          float64\n",
      "dtypes: float64(7)\n",
      "memory usage: 130.6 MB\n"
     ]
    }
   ],
   "source": [
    "df.info()"
   ]
  },
  {
   "cell_type": "code",
   "execution_count": 32,
   "id": "a7684622",
   "metadata": {},
   "outputs": [],
   "source": [
    "# convert floats to int except taxes and bedrooms\n",
    "df['County_Code'] = df['County_Code'].astype(int)\n",
    "df['Year_Built'] = df['Year_Built'].astype(int)\n",
    "df['Square_Footage'] = df['Square_Footage'].astype(int)\n",
    "df['Number_of_Bedrooms'] = df['Number_of_Bedrooms'].astype(int)\n",
    "df['Tax_Appraised_Value'] = df['Tax_Appraised_Value'].astype(int)"
   ]
  },
  {
   "cell_type": "code",
   "execution_count": 33,
   "id": "aa8caea4",
   "metadata": {},
   "outputs": [
    {
     "name": "stdout",
     "output_type": "stream",
     "text": [
      "<class 'pandas.core.frame.DataFrame'>\n",
      "Int64Index: 2130657 entries, 4 to 2152862\n",
      "Data columns (total 7 columns):\n",
      " #   Column               Dtype  \n",
      "---  ------               -----  \n",
      " 0   Number_of_Bedrooms   int64  \n",
      " 1   Number_of_Bathrooms  float64\n",
      " 2   Square_Footage       int64  \n",
      " 3   Tax_Appraised_Value  int64  \n",
      " 4   Year_Built           int64  \n",
      " 5   Tax_Assessed         float64\n",
      " 6   County_Code          int64  \n",
      "dtypes: float64(2), int64(5)\n",
      "memory usage: 130.0 MB\n"
     ]
    }
   ],
   "source": [
    "df.info()"
   ]
  },
  {
   "cell_type": "code",
   "execution_count": 13,
   "id": "58ae1dd9",
   "metadata": {},
   "outputs": [
    {
     "data": {
      "text/plain": [
       "0.0001"
      ]
     },
     "execution_count": 13,
     "metadata": {},
     "output_type": "execute_result"
    }
   ],
   "source": [
    "# what should the minimum square footage be? 120 \n",
    "# https://worldpopulationreview.com/state-rankings/minimum-house-size-by-state\n",
    "# what percentage of homes under 120 sq ft are in the df?\n",
    "round(len(df[df['Square_Footage']< 120])/ df.shape[0],4)"
   ]
  },
  {
   "cell_type": "code",
   "execution_count": 14,
   "id": "74a5a234",
   "metadata": {},
   "outputs": [
    {
     "data": {
      "text/plain": [
       "4397"
      ]
     },
     "execution_count": 14,
     "metadata": {},
     "output_type": "execute_result"
    }
   ],
   "source": [
    "# how many homes have no bedrooms?\n",
    "len(df[df['Number_of_Bedrooms']==0])"
   ]
  },
  {
   "cell_type": "code",
   "execution_count": 15,
   "id": "33e7e5a9",
   "metadata": {},
   "outputs": [
    {
     "data": {
      "text/plain": [
       "4274"
      ]
     },
     "execution_count": 15,
     "metadata": {},
     "output_type": "execute_result"
    }
   ],
   "source": [
    "# bathrooms?\n",
    "len(df[df['Number_of_Bathrooms']==0])"
   ]
  },
  {
   "cell_type": "code",
   "execution_count": 16,
   "id": "c04b6c3e",
   "metadata": {},
   "outputs": [],
   "source": [
    "# dropping rows that don't meet minimum home requirements (1 bed .5 bath > 120sq ft)\n",
    "df = df[df.Square_Footage >120]\n",
    "df = df[df.Number_of_Bedrooms >0]\n",
    "df = df[df.Number_of_Bathrooms >0]\n"
   ]
  },
  {
   "cell_type": "code",
   "execution_count": 17,
   "id": "bb81760b",
   "metadata": {},
   "outputs": [
    {
     "data": {
      "text/html": [
       "<div>\n",
       "<style scoped>\n",
       "    .dataframe tbody tr th:only-of-type {\n",
       "        vertical-align: middle;\n",
       "    }\n",
       "\n",
       "    .dataframe tbody tr th {\n",
       "        vertical-align: top;\n",
       "    }\n",
       "\n",
       "    .dataframe thead th {\n",
       "        text-align: right;\n",
       "    }\n",
       "</style>\n",
       "<table border=\"1\" class=\"dataframe\">\n",
       "  <thead>\n",
       "    <tr style=\"text-align: right;\">\n",
       "      <th></th>\n",
       "      <th>count</th>\n",
       "      <th>mean</th>\n",
       "      <th>std</th>\n",
       "      <th>min</th>\n",
       "      <th>25%</th>\n",
       "      <th>50%</th>\n",
       "      <th>75%</th>\n",
       "      <th>max</th>\n",
       "    </tr>\n",
       "  </thead>\n",
       "  <tbody>\n",
       "    <tr>\n",
       "      <th>Number_of_Bedrooms</th>\n",
       "      <td>2134884.0</td>\n",
       "      <td>3.308336</td>\n",
       "      <td>0.921153</td>\n",
       "      <td>1.00</td>\n",
       "      <td>3.00</td>\n",
       "      <td>3.00</td>\n",
       "      <td>4.00</td>\n",
       "      <td>25.00</td>\n",
       "    </tr>\n",
       "    <tr>\n",
       "      <th>Number_of_Bathrooms</th>\n",
       "      <td>2134884.0</td>\n",
       "      <td>2.245149</td>\n",
       "      <td>0.985540</td>\n",
       "      <td>0.50</td>\n",
       "      <td>2.00</td>\n",
       "      <td>2.00</td>\n",
       "      <td>3.00</td>\n",
       "      <td>32.00</td>\n",
       "    </tr>\n",
       "    <tr>\n",
       "      <th>Square_Footage</th>\n",
       "      <td>2134884.0</td>\n",
       "      <td>1864.197320</td>\n",
       "      <td>1162.389343</td>\n",
       "      <td>127.00</td>\n",
       "      <td>1260.00</td>\n",
       "      <td>1624.00</td>\n",
       "      <td>2209.00</td>\n",
       "      <td>952576.00</td>\n",
       "    </tr>\n",
       "    <tr>\n",
       "      <th>Tax_Appraised_Value</th>\n",
       "      <td>2134884.0</td>\n",
       "      <td>460876.590084</td>\n",
       "      <td>674681.418590</td>\n",
       "      <td>22.00</td>\n",
       "      <td>189630.75</td>\n",
       "      <td>328859.00</td>\n",
       "      <td>535000.00</td>\n",
       "      <td>90188462.00</td>\n",
       "    </tr>\n",
       "    <tr>\n",
       "      <th>Year_Built</th>\n",
       "      <td>2134884.0</td>\n",
       "      <td>1960.985129</td>\n",
       "      <td>22.133983</td>\n",
       "      <td>1801.00</td>\n",
       "      <td>1949.00</td>\n",
       "      <td>1958.00</td>\n",
       "      <td>1976.00</td>\n",
       "      <td>2016.00</td>\n",
       "    </tr>\n",
       "    <tr>\n",
       "      <th>Tax_Assessed</th>\n",
       "      <td>2134884.0</td>\n",
       "      <td>5619.620855</td>\n",
       "      <td>7784.654633</td>\n",
       "      <td>16.48</td>\n",
       "      <td>2546.71</td>\n",
       "      <td>4116.04</td>\n",
       "      <td>6415.76</td>\n",
       "      <td>1078101.87</td>\n",
       "    </tr>\n",
       "    <tr>\n",
       "      <th>County_Code</th>\n",
       "      <td>2134884.0</td>\n",
       "      <td>6048.304237</td>\n",
       "      <td>20.324535</td>\n",
       "      <td>6037.00</td>\n",
       "      <td>6037.00</td>\n",
       "      <td>6037.00</td>\n",
       "      <td>6059.00</td>\n",
       "      <td>6111.00</td>\n",
       "    </tr>\n",
       "  </tbody>\n",
       "</table>\n",
       "</div>"
      ],
      "text/plain": [
       "                         count           mean            std      min  \\\n",
       "Number_of_Bedrooms   2134884.0       3.308336       0.921153     1.00   \n",
       "Number_of_Bathrooms  2134884.0       2.245149       0.985540     0.50   \n",
       "Square_Footage       2134884.0    1864.197320    1162.389343   127.00   \n",
       "Tax_Appraised_Value  2134884.0  460876.590084  674681.418590    22.00   \n",
       "Year_Built           2134884.0    1960.985129      22.133983  1801.00   \n",
       "Tax_Assessed         2134884.0    5619.620855    7784.654633    16.48   \n",
       "County_Code          2134884.0    6048.304237      20.324535  6037.00   \n",
       "\n",
       "                           25%        50%        75%          max  \n",
       "Number_of_Bedrooms        3.00       3.00       4.00        25.00  \n",
       "Number_of_Bathrooms       2.00       2.00       3.00        32.00  \n",
       "Square_Footage         1260.00    1624.00    2209.00    952576.00  \n",
       "Tax_Appraised_Value  189630.75  328859.00  535000.00  90188462.00  \n",
       "Year_Built             1949.00    1958.00    1976.00      2016.00  \n",
       "Tax_Assessed           2546.71    4116.04    6415.76   1078101.87  \n",
       "County_Code            6037.00    6037.00    6059.00      6111.00  "
      ]
     },
     "execution_count": 17,
     "metadata": {},
     "output_type": "execute_result"
    }
   ],
   "source": [
    "df.describe().T"
   ]
  },
  {
   "cell_type": "code",
   "execution_count": 18,
   "id": "16e27528",
   "metadata": {},
   "outputs": [
    {
     "name": "stdout",
     "output_type": "stream",
     "text": [
      "Number_of_Bedrooms\n",
      "3     962631\n",
      "4     633360\n",
      "2     334071\n",
      "5     150594\n",
      "6      25104\n",
      "1      22747\n",
      "7       4791\n",
      "8       1102\n",
      "9        290\n",
      "10       118\n",
      "11        33\n",
      "13        15\n",
      "12        12\n",
      "14         6\n",
      "15         5\n",
      "16         2\n",
      "18         2\n",
      "25         1\n",
      "Name: Number_of_Bedrooms, dtype: int64\n",
      "-----------------\n",
      "Number_of_Bathrooms\n",
      "2.00     942322\n",
      "3.00     422353\n",
      "1.00     411769\n",
      "2.50     142811\n",
      "4.00      82028\n",
      "1.50      31155\n",
      "3.50      28460\n",
      "5.00      28296\n",
      "4.50      19469\n",
      "6.00      10716\n",
      "5.50       6200\n",
      "7.00       4380\n",
      "8.00       1680\n",
      "6.50       1328\n",
      "9.00        705\n",
      "7.50        379\n",
      "10.00       321\n",
      "11.00       145\n",
      "8.50        108\n",
      "12.00        72\n",
      "9.50         49\n",
      "13.00        38\n",
      "14.00        23\n",
      "15.00        15\n",
      "10.50        14\n",
      "0.50         14\n",
      "16.00         9\n",
      "18.00         6\n",
      "1.75          3\n",
      "20.00         3\n",
      "17.00         3\n",
      "12.50         3\n",
      "11.50         3\n",
      "19.50         1\n",
      "14.50         1\n",
      "32.00         1\n",
      "19.00         1\n",
      "Name: Number_of_Bathrooms, dtype: int64\n",
      "-----------------\n",
      "Square_Footage\n",
      "1200     5164\n",
      "1080     4370\n",
      "1120     4335\n",
      "1400     3828\n",
      "1440     3672\n",
      "         ... \n",
      "6089        1\n",
      "10154       1\n",
      "7996        1\n",
      "11670       1\n",
      "24920       1\n",
      "Name: Square_Footage, Length: 10385, dtype: int64\n",
      "-----------------\n",
      "Tax_Appraised_Value\n",
      "450000.0     817\n",
      "500000.0     773\n",
      "400000.0     722\n",
      "430000.0     690\n",
      "440000.0     680\n",
      "            ... \n",
      "186494.0       1\n",
      "672002.0       1\n",
      "1430193.0      1\n",
      "392694.0       1\n",
      "536061.0       1\n",
      "Name: Tax_Appraised_Value, Length: 586487, dtype: int64\n",
      "-----------------\n",
      "Year_Built\n",
      "1955    84195\n",
      "1950    71520\n",
      "1954    68956\n",
      "1953    62175\n",
      "1956    61744\n",
      "        ...  \n",
      "1855        1\n",
      "1879        1\n",
      "1833        1\n",
      "1840        1\n",
      "1874        1\n",
      "Name: Year_Built, Length: 153, dtype: int64\n",
      "-----------------\n",
      "Tax_Assessed\n",
      "345.72      172\n",
      "344.18       76\n",
      "343.52       72\n",
      "49.18        46\n",
      "388.18       37\n",
      "           ... \n",
      "52493.30      1\n",
      "72801.58      1\n",
      "94622.54      1\n",
      "21967.44      1\n",
      "13494.52      1\n",
      "Name: Tax_Assessed, Length: 914027, dtype: int64\n",
      "-----------------\n",
      "County_Code\n",
      "6037    1421069\n",
      "6059     551713\n",
      "6111     162102\n",
      "Name: County_Code, dtype: int64\n",
      "-----------------\n"
     ]
    }
   ],
   "source": [
    "# value counts for each column\n",
    "for column in df.columns:\n",
    "    print(column)\n",
    "    print(df[column].value_counts())\n",
    "    print(\"-----------------\")"
   ]
  },
  {
   "cell_type": "code",
   "execution_count": 19,
   "id": "c1937663",
   "metadata": {},
   "outputs": [
    {
     "data": {
      "text/plain": [
       "6.850912270417616"
      ]
     },
     "execution_count": 19,
     "metadata": {},
     "output_type": "execute_result"
    }
   ],
   "source": [
    "# how to handle outliers?\n",
    "# utilize 7 bed 7.5 bath\n",
    "\n",
    "df.Number_of_Bathrooms.mean() + (5* stdev(df.Number_of_Bedrooms))"
   ]
  },
  {
   "cell_type": "code",
   "execution_count": 20,
   "id": "c20b2f9d",
   "metadata": {},
   "outputs": [
    {
     "data": {
      "text/plain": [
       "7.172847851521835"
      ]
     },
     "execution_count": 20,
     "metadata": {},
     "output_type": "execute_result"
    }
   ],
   "source": [
    "df.Number_of_Bathrooms.mean() + (5* stdev(df.Number_of_Bathrooms))"
   ]
  },
  {
   "cell_type": "code",
   "execution_count": 21,
   "id": "c3b92c15",
   "metadata": {},
   "outputs": [],
   "source": [
    "df = df[df.Number_of_Bedrooms <=7]\n",
    "df = df[df.Number_of_Bathrooms <=7.5]"
   ]
  },
  {
   "cell_type": "code",
   "execution_count": 22,
   "id": "27c29062",
   "metadata": {},
   "outputs": [
    {
     "data": {
      "text/plain": [
       "3330624.634755437"
      ]
     },
     "execution_count": 22,
     "metadata": {},
     "output_type": "execute_result"
    }
   ],
   "source": [
    "df.Tax_Appraised_Value.mean() + (5* stdev(df.Tax_Appraised_Value))"
   ]
  },
  {
   "cell_type": "code",
   "execution_count": 23,
   "id": "35b2f613",
   "metadata": {},
   "outputs": [
    {
     "data": {
      "text/plain": [
       "12984.363554740647"
      ]
     },
     "execution_count": 23,
     "metadata": {},
     "output_type": "execute_result"
    }
   ],
   "source": [
    "df.Square_Footage.mean() + (10* stdev(df.Square_Footage))"
   ]
  },
  {
   "cell_type": "code",
   "execution_count": 30,
   "id": "e952ec8d",
   "metadata": {},
   "outputs": [
    {
     "data": {
      "text/plain": [
       "Number_of_Bedrooms     4.894118e+00\n",
       "Number_of_Bathrooms    5.552941e+00\n",
       "Square_Footage         1.638096e+04\n",
       "Tax_Appraised_Value    9.063501e+06\n",
       "Year_Built             1.984094e+03\n",
       "Tax_Assessed           1.034852e+05\n",
       "County_Code            6.046365e+03\n",
       "dtype: float64"
      ]
     },
     "execution_count": 30,
     "metadata": {},
     "output_type": "execute_result"
    }
   ],
   "source": [
    "df[df.Square_Footage > 13000].mean()"
   ]
  },
  {
   "cell_type": "code",
   "execution_count": 25,
   "id": "4ec13d86",
   "metadata": {},
   "outputs": [],
   "source": [
    "df = df[df.Square_Footage <=56_000]"
   ]
  },
  {
   "cell_type": "code",
   "execution_count": 26,
   "id": "de698324",
   "metadata": {},
   "outputs": [
    {
     "data": {
      "text/html": [
       "<div>\n",
       "<style scoped>\n",
       "    .dataframe tbody tr th:only-of-type {\n",
       "        vertical-align: middle;\n",
       "    }\n",
       "\n",
       "    .dataframe tbody tr th {\n",
       "        vertical-align: top;\n",
       "    }\n",
       "\n",
       "    .dataframe thead th {\n",
       "        text-align: right;\n",
       "    }\n",
       "</style>\n",
       "<table border=\"1\" class=\"dataframe\">\n",
       "  <thead>\n",
       "    <tr style=\"text-align: right;\">\n",
       "      <th></th>\n",
       "      <th>count</th>\n",
       "      <th>mean</th>\n",
       "      <th>std</th>\n",
       "      <th>min</th>\n",
       "      <th>25%</th>\n",
       "      <th>50%</th>\n",
       "      <th>75%</th>\n",
       "      <th>max</th>\n",
       "    </tr>\n",
       "  </thead>\n",
       "  <tbody>\n",
       "    <tr>\n",
       "      <th>Number_of_Bedrooms</th>\n",
       "      <td>2130657.0</td>\n",
       "      <td>3.301228</td>\n",
       "      <td>0.905162</td>\n",
       "      <td>1.00</td>\n",
       "      <td>3.00</td>\n",
       "      <td>3.00</td>\n",
       "      <td>4.00</td>\n",
       "      <td>7.00</td>\n",
       "    </tr>\n",
       "    <tr>\n",
       "      <th>Number_of_Bathrooms</th>\n",
       "      <td>2130657.0</td>\n",
       "      <td>2.233830</td>\n",
       "      <td>0.947761</td>\n",
       "      <td>0.50</td>\n",
       "      <td>2.00</td>\n",
       "      <td>2.00</td>\n",
       "      <td>3.00</td>\n",
       "      <td>7.50</td>\n",
       "    </tr>\n",
       "    <tr>\n",
       "      <th>Square_Footage</th>\n",
       "      <td>2130657.0</td>\n",
       "      <td>1850.893710</td>\n",
       "      <td>902.035214</td>\n",
       "      <td>127.00</td>\n",
       "      <td>1259.00</td>\n",
       "      <td>1623.00</td>\n",
       "      <td>2204.00</td>\n",
       "      <td>37634.00</td>\n",
       "    </tr>\n",
       "    <tr>\n",
       "      <th>Tax_Appraised_Value</th>\n",
       "      <td>2130657.0</td>\n",
       "      <td>451591.601228</td>\n",
       "      <td>575806.781671</td>\n",
       "      <td>22.00</td>\n",
       "      <td>189416.00</td>\n",
       "      <td>328052.00</td>\n",
       "      <td>533208.00</td>\n",
       "      <td>49386312.00</td>\n",
       "    </tr>\n",
       "    <tr>\n",
       "      <th>Year_Built</th>\n",
       "      <td>2130657.0</td>\n",
       "      <td>1960.954404</td>\n",
       "      <td>22.098075</td>\n",
       "      <td>1801.00</td>\n",
       "      <td>1949.00</td>\n",
       "      <td>1958.00</td>\n",
       "      <td>1975.00</td>\n",
       "      <td>2016.00</td>\n",
       "    </tr>\n",
       "    <tr>\n",
       "      <th>Tax_Assessed</th>\n",
       "      <td>2130657.0</td>\n",
       "      <td>5511.784768</td>\n",
       "      <td>6605.282642</td>\n",
       "      <td>16.48</td>\n",
       "      <td>2543.86</td>\n",
       "      <td>4109.79</td>\n",
       "      <td>6397.65</td>\n",
       "      <td>560814.33</td>\n",
       "    </tr>\n",
       "    <tr>\n",
       "      <th>County_Code</th>\n",
       "      <td>2130657.0</td>\n",
       "      <td>6048.317351</td>\n",
       "      <td>20.333972</td>\n",
       "      <td>6037.00</td>\n",
       "      <td>6037.00</td>\n",
       "      <td>6037.00</td>\n",
       "      <td>6059.00</td>\n",
       "      <td>6111.00</td>\n",
       "    </tr>\n",
       "  </tbody>\n",
       "</table>\n",
       "</div>"
      ],
      "text/plain": [
       "                         count           mean            std      min  \\\n",
       "Number_of_Bedrooms   2130657.0       3.301228       0.905162     1.00   \n",
       "Number_of_Bathrooms  2130657.0       2.233830       0.947761     0.50   \n",
       "Square_Footage       2130657.0    1850.893710     902.035214   127.00   \n",
       "Tax_Appraised_Value  2130657.0  451591.601228  575806.781671    22.00   \n",
       "Year_Built           2130657.0    1960.954404      22.098075  1801.00   \n",
       "Tax_Assessed         2130657.0    5511.784768    6605.282642    16.48   \n",
       "County_Code          2130657.0    6048.317351      20.333972  6037.00   \n",
       "\n",
       "                           25%        50%        75%          max  \n",
       "Number_of_Bedrooms        3.00       3.00       4.00         7.00  \n",
       "Number_of_Bathrooms       2.00       2.00       3.00         7.50  \n",
       "Square_Footage         1259.00    1623.00    2204.00     37634.00  \n",
       "Tax_Appraised_Value  189416.00  328052.00  533208.00  49386312.00  \n",
       "Year_Built             1949.00    1958.00    1975.00      2016.00  \n",
       "Tax_Assessed           2543.86    4109.79    6397.65    560814.33  \n",
       "County_Code            6037.00    6037.00    6059.00      6111.00  "
      ]
     },
     "execution_count": 26,
     "metadata": {},
     "output_type": "execute_result"
    }
   ],
   "source": [
    "df.describe().T"
   ]
  },
  {
   "cell_type": "code",
   "execution_count": 27,
   "id": "8fee874f",
   "metadata": {},
   "outputs": [],
   "source": [
    "def prepare_zillow_data(df):\n",
    "    ''' Prepares zillow data'''\n",
    "    #drop null values\n",
    "    df = df.dropna()\n",
    "    #limit homes to 1 bed , .5 bath, and at least 120sq ft     \n",
    "    df = df[df.Square_Footage > 120]\n",
    "    df = df[df.Number_of_Bedrooms > 0]\n",
    "    df = df[df.Number_of_Bathrooms >0]\n",
    "    # convert floats to int except taxes and bedrooms\n",
    "    df['County_Code'] = df['County_Code'].astype(int)\n",
    "    df['Year_Built'] = df['Year_Built'].astype(int)\n",
    "    df['Square_Footage'] = df['Square_Footage'].astype(int)\n",
    "    df['Number_of_Bedrooms'] = df['Number_of_Bedrooms'].astype(int)\n",
    "    # handle outliers homes appraised for less than 3.5M, square footage less than 56,000 and 7 beds and 7.5 baths or less\n",
    "    df = df[df.Number_of_Bedrooms <=7]\n",
    "    df = df[df.Number_of_Bathrooms <=7.5]\n",
    "    df = df[df.Square_Footage <=56_000]\n",
    "    return df"
   ]
  },
  {
   "cell_type": "code",
   "execution_count": 28,
   "id": "7c483e0e",
   "metadata": {},
   "outputs": [],
   "source": [
    "def split_zillow_data(df):\n",
    "    ''' This function splits the cleaned dataframe into train, validate, and test \n",
    "    datasets and statrifies based on the target - Tax_Appraised_Value.'''\n",
    "\n",
    "    train_validate, test = train_test_split(df, test_size=.2, \n",
    "                                        random_state=123)\n",
    "    train, validate = train_test_split(train_validate, test_size=.3, \n",
    "                                   random_state=123)\n",
    "    \n",
    "    return train, validate, test"
   ]
  },
  {
   "cell_type": "code",
   "execution_count": 29,
   "id": "0885a2a7",
   "metadata": {},
   "outputs": [],
   "source": [
    "train, validate, test = split_zillow_data(df)"
   ]
  },
  {
   "cell_type": "code",
   "execution_count": null,
   "id": "be6e55dc",
   "metadata": {},
   "outputs": [],
   "source": []
  }
 ],
 "metadata": {
  "kernelspec": {
   "display_name": "Python 3 (ipykernel)",
   "language": "python",
   "name": "python3"
  },
  "language_info": {
   "codemirror_mode": {
    "name": "ipython",
    "version": 3
   },
   "file_extension": ".py",
   "mimetype": "text/x-python",
   "name": "python",
   "nbconvert_exporter": "python",
   "pygments_lexer": "ipython3",
   "version": "3.9.7"
  }
 },
 "nbformat": 4,
 "nbformat_minor": 5
}
